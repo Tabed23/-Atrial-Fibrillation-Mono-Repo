{
 "cells": [
  {
   "cell_type": "code",
   "execution_count": 1,
   "id": "400c2cab",
   "metadata": {},
   "outputs": [],
   "source": [
    "# import essential libraries\n",
    "import pandas as pd\n",
    "import numpy as np\n",
    "from sklearn.neighbors import KNeighborsClassifier, KNeighborsRegressor\n",
    "from sklearn.ensemble import RandomForestClassifier, RandomForestRegressor\n",
    "from sklearn.model_selection import train_test_split, cross_validate, GridSearchCV\n",
    "from sklearn.metrics import accuracy_score, confusion_matrix, classification_report, mean_squared_error, mean_absolute_error\n",
    "import warnings\n",
    "warnings.filterwarnings('ignore')"
   ]
  },
  {
   "cell_type": "code",
   "execution_count": 2,
   "id": "a88fbf40",
   "metadata": {},
   "outputs": [
    {
     "name": "stdout",
     "output_type": "stream",
     "text": [
      "(1803, 11)\n"
     ]
    },
    {
     "data": {
      "text/html": [
       "<div>\n",
       "<style scoped>\n",
       "    .dataframe tbody tr th:only-of-type {\n",
       "        vertical-align: middle;\n",
       "    }\n",
       "\n",
       "    .dataframe tbody tr th {\n",
       "        vertical-align: top;\n",
       "    }\n",
       "\n",
       "    .dataframe thead th {\n",
       "        text-align: right;\n",
       "    }\n",
       "</style>\n",
       "<table border=\"1\" class=\"dataframe\">\n",
       "  <thead>\n",
       "    <tr style=\"text-align: right;\">\n",
       "      <th></th>\n",
       "      <th>ritmi</th>\n",
       "      <th>age</th>\n",
       "      <th>sex</th>\n",
       "      <th>height</th>\n",
       "      <th>weight</th>\n",
       "      <th>heart_axis</th>\n",
       "      <th>validated_by</th>\n",
       "      <th>second_opinion</th>\n",
       "      <th>validated_by_human</th>\n",
       "      <th>pacemaker</th>\n",
       "      <th>strat_fold</th>\n",
       "    </tr>\n",
       "  </thead>\n",
       "  <tbody>\n",
       "    <tr>\n",
       "      <th>0</th>\n",
       "      <td>2</td>\n",
       "      <td>29.0</td>\n",
       "      <td>1</td>\n",
       "      <td>164.0</td>\n",
       "      <td>56.0</td>\n",
       "      <td>0</td>\n",
       "      <td>0.0</td>\n",
       "      <td>0</td>\n",
       "      <td>1</td>\n",
       "      <td>0</td>\n",
       "      <td>1</td>\n",
       "    </tr>\n",
       "    <tr>\n",
       "      <th>1</th>\n",
       "      <td>0</td>\n",
       "      <td>59.0</td>\n",
       "      <td>0</td>\n",
       "      <td>156.0</td>\n",
       "      <td>75.0</td>\n",
       "      <td>0</td>\n",
       "      <td>0.0</td>\n",
       "      <td>0</td>\n",
       "      <td>1</td>\n",
       "      <td>0</td>\n",
       "      <td>9</td>\n",
       "    </tr>\n",
       "    <tr>\n",
       "      <th>2</th>\n",
       "      <td>2</td>\n",
       "      <td>84.0</td>\n",
       "      <td>1</td>\n",
       "      <td>152.0</td>\n",
       "      <td>51.0</td>\n",
       "      <td>0</td>\n",
       "      <td>0.0</td>\n",
       "      <td>0</td>\n",
       "      <td>1</td>\n",
       "      <td>0</td>\n",
       "      <td>7</td>\n",
       "    </tr>\n",
       "    <tr>\n",
       "      <th>3</th>\n",
       "      <td>0</td>\n",
       "      <td>79.0</td>\n",
       "      <td>0</td>\n",
       "      <td>172.0</td>\n",
       "      <td>66.0</td>\n",
       "      <td>0</td>\n",
       "      <td>0.0</td>\n",
       "      <td>0</td>\n",
       "      <td>1</td>\n",
       "      <td>0</td>\n",
       "      <td>5</td>\n",
       "    </tr>\n",
       "    <tr>\n",
       "      <th>4</th>\n",
       "      <td>1</td>\n",
       "      <td>67.0</td>\n",
       "      <td>0</td>\n",
       "      <td>178.0</td>\n",
       "      <td>73.0</td>\n",
       "      <td>4</td>\n",
       "      <td>0.0</td>\n",
       "      <td>0</td>\n",
       "      <td>1</td>\n",
       "      <td>0</td>\n",
       "      <td>5</td>\n",
       "    </tr>\n",
       "  </tbody>\n",
       "</table>\n",
       "</div>"
      ],
      "text/plain": [
       "   ritmi   age  sex  height  weight  heart_axis  validated_by  second_opinion  \\\n",
       "0      2  29.0    1   164.0    56.0           0           0.0               0   \n",
       "1      0  59.0    0   156.0    75.0           0           0.0               0   \n",
       "2      2  84.0    1   152.0    51.0           0           0.0               0   \n",
       "3      0  79.0    0   172.0    66.0           0           0.0               0   \n",
       "4      1  67.0    0   178.0    73.0           4           0.0               0   \n",
       "\n",
       "   validated_by_human  pacemaker  strat_fold  \n",
       "0                   1          0           1  \n",
       "1                   1          0           9  \n",
       "2                   1          0           7  \n",
       "3                   1          0           5  \n",
       "4                   1          0           5  "
      ]
     },
     "execution_count": 2,
     "metadata": {},
     "output_type": "execute_result"
    }
   ],
   "source": [
    "\n",
    "# read in csv \n",
    "df = pd.read_csv('training_11_features.csv')\n",
    "df = df.dropna()\n",
    "# df = df[df['ritmi'] != 0]\n",
    "df = df.reset_index(drop=True)\n",
    "print(df.shape)\n",
    "df.head()"
   ]
  },
  {
   "cell_type": "code",
   "execution_count": 3,
   "id": "7a0d7ea2",
   "metadata": {},
   "outputs": [
    {
     "name": "stdout",
     "output_type": "stream",
     "text": [
      "<class 'pandas.core.frame.DataFrame'>\n",
      "RangeIndex: 1803 entries, 0 to 1802\n",
      "Data columns (total 11 columns):\n",
      " #   Column              Non-Null Count  Dtype\n",
      "---  ------              --------------  -----\n",
      " 0   ritmi               1803 non-null   int64\n",
      " 1   age                 1803 non-null   int64\n",
      " 2   sex                 1803 non-null   int64\n",
      " 3   height              1803 non-null   int64\n",
      " 4   weight              1803 non-null   int64\n",
      " 5   heart_axis          1803 non-null   int64\n",
      " 6   validated_by        1803 non-null   int64\n",
      " 7   second_opinion      1803 non-null   int64\n",
      " 8   validated_by_human  1803 non-null   int64\n",
      " 9   pacemaker           1803 non-null   int64\n",
      " 10  strat_fold          1803 non-null   int64\n",
      "dtypes: int64(11)\n",
      "memory usage: 155.1 KB\n"
     ]
    }
   ],
   "source": [
    "# convert all columns' types to int64\n",
    "df['age'] = df['age'].astype('int64')\n",
    "df['height'] = df['height'].astype('int64')\n",
    "df['weight'] = df['weight'].astype('int64')\n",
    "df['validated_by'] = df['validated_by'].astype('int64')\n",
    "\n",
    "# get info for columns\n",
    "df.info()"
   ]
  },
  {
   "cell_type": "code",
   "execution_count": 4,
   "id": "41093052",
   "metadata": {},
   "outputs": [],
   "source": [
    "# train-test split\n",
    "X = df.drop(columns = ['heart_axis','pacemaker','second_opinion','strat_fold','validated_by','validated_by_human','ritmi'])\n",
    "y = df['ritmi']\n",
    "X_train, X_test, y_train, y_test=train_test_split(X, y, test_size = 0.25, random_state = 1234)"
   ]
  },
  {
   "cell_type": "code",
   "execution_count": 5,
   "id": "58e11eb8",
   "metadata": {},
   "outputs": [
    {
     "name": "stdout",
     "output_type": "stream",
     "text": [
      "X_train (1352, 4)\n",
      "y_train (1352,)\n",
      "X_test (451, 4)\n",
      "y_test (451,)\n"
     ]
    }
   ],
   "source": [
    "print(\"X_train\", X_train.shape)\n",
    "print(\"y_train\", y_train.shape)\n",
    "print(\"X_test\", X_test.shape)\n",
    "print(\"y_test\", y_test.shape)"
   ]
  },
  {
   "cell_type": "markdown",
   "id": "c1d227b2",
   "metadata": {},
   "source": [
    "# Random Forest"
   ]
  },
  {
   "cell_type": "code",
   "execution_count": 6,
   "id": "feb4c180",
   "metadata": {},
   "outputs": [
    {
     "name": "stdout",
     "output_type": "stream",
     "text": [
      "Best Score:0.4497050676474852\n",
      "Best Parameters: {'criterion': 'entropy', 'max_depth': 60, 'n_estimators': 600}\n"
     ]
    }
   ],
   "source": [
    "# Plug in appropriate max_depth and random_state parameters\n",
    "rf = RandomForestClassifier()\n",
    "rf_param_grid = {'n_estimators': [600], 'criterion': ['entropy'], 'max_depth': [60]} #0.4615443314230772\n",
    "\n",
    "rf_cv= GridSearchCV(rf,rf_param_grid,cv=7,n_jobs=-1)\n",
    "\n",
    "rf_cv.fit(X_train,y_train)\n",
    "\n",
    "print(\"Best Score:\" + str(rf_cv.best_score_))\n",
    "print(\"Best Parameters: \" + str(rf_cv.best_params_))"
   ]
  },
  {
   "cell_type": "code",
   "execution_count": 7,
   "id": "7de8a8ef",
   "metadata": {},
   "outputs": [
    {
     "name": "stdout",
     "output_type": "stream",
     "text": [
      "              precision    recall  f1-score   support\n",
      "\n",
      "           0       0.99      1.00      0.99       461\n",
      "           1       0.97      0.97      0.97       358\n",
      "           2       0.98      0.97      0.98       533\n",
      "\n",
      "    accuracy                           0.98      1352\n",
      "   macro avg       0.98      0.98      0.98      1352\n",
      "weighted avg       0.98      0.98      0.98      1352\n",
      "\n"
     ]
    }
   ],
   "source": [
    "y_train_pred = rf_cv.predict(X_train)\n",
    "print(classification_report(y_train, y_train_pred))"
   ]
  },
  {
   "cell_type": "code",
   "execution_count": 8,
   "id": "f93ff745",
   "metadata": {},
   "outputs": [
    {
     "name": "stdout",
     "output_type": "stream",
     "text": [
      "              precision    recall  f1-score   support\n",
      "\n",
      "           0       0.99      1.00      0.99       461\n",
      "           1       0.97      0.97      0.97       358\n",
      "           2       0.98      0.97      0.98       533\n",
      "\n",
      "    accuracy                           0.98      1352\n",
      "   macro avg       0.98      0.98      0.98      1352\n",
      "weighted avg       0.98      0.98      0.98      1352\n",
      "\n",
      "              precision    recall  f1-score   support\n",
      "\n",
      "           0       0.41      0.41      0.41       151\n",
      "           1       0.38      0.43      0.40       116\n",
      "           2       0.42      0.39      0.40       184\n",
      "\n",
      "    accuracy                           0.41       451\n",
      "   macro avg       0.40      0.41      0.41       451\n",
      "weighted avg       0.41      0.41      0.41       451\n",
      "\n"
     ]
    }
   ],
   "source": [
    "y_train_pred = rf_cv.predict(X_train)\n",
    "print(classification_report(y_train, y_train_pred))\n",
    "\n",
    "y_pred = rf_cv.predict(X_test)\n",
    "print(classification_report(y_test, y_pred))"
   ]
  },
  {
   "cell_type": "code",
   "execution_count": 9,
   "id": "6fb3515c",
   "metadata": {},
   "outputs": [
    {
     "data": {
      "image/png": "[encoded data removed]",
      "text/plain": [
       "<Figure size 432x288 with 2 Axes>"
      ]
     },
     "metadata": {
      "needs_background": "light"
     },
     "output_type": "display_data"
    }
   ],
   "source": [
    "# confusion matrix seaborn heatmap\n",
    "import seaborn as sns\n",
    "import matplotlib.pyplot as plt\n",
    "from sklearn.metrics import confusion_matrix\n",
    "cm = confusion_matrix(y_test, y_pred)\n",
    "sns.heatmap(cm, annot=True, fmt='d')\n",
    "plt.show()"
   ]
  },
  {
   "cell_type": "markdown",
   "id": "832c8893",
   "metadata": {},
   "source": [
    "# K Neighbors Classifier"
   ]
  },
  {
   "cell_type": "code",
   "execution_count": 10,
   "id": "c683d5c5",
   "metadata": {},
   "outputs": [
    {
     "name": "stdout",
     "output_type": "stream",
     "text": [
      "Fitting 5 folds for each of 1 candidates, totalling 5 fits\n",
      "[CV 4/5] END metric=euclidean, n_neighbors=150, weights=distance;, score=0.504 total time=   0.0s\n",
      "[CV 5/5] END metric=euclidean, n_neighbors=150, weights=distance;, score=0.470 total time=   0.0s\n",
      "[CV 3/5] END metric=euclidean, n_neighbors=150, weights=distance;, score=0.437 total time=   0.0s\n",
      "[CV 2/5] END metric=euclidean, n_neighbors=150, weights=distance;, score=0.506 total time=   0.0s\n",
      "[CV 1/5] END metric=euclidean, n_neighbors=150, weights=distance;, score=0.480 total time=   0.0s\n",
      "KNeighborsClassifier(metric='euclidean', n_neighbors=150, weights='distance') {'metric': 'euclidean', 'n_neighbors': 150, 'weights': 'distance'} 0.47927019270192706\n"
     ]
    }
   ],
   "source": [
    "clfl2 = KNeighborsClassifier()\n",
    "parameters = {'n_neighbors': [150], 'weights': ['distance'], 'metric': ['euclidean']} #0.4889326226595599\n",
    "\n",
    "fitmodel = GridSearchCV(clfl2, param_grid=parameters, cv=5, refit=True, scoring=\"accuracy\", n_jobs=-1, verbose=3)\n",
    "fitmodel.fit(X_train, y_train)\n",
    "print(fitmodel.best_estimator_, fitmodel.best_params_, fitmodel.best_score_)"
   ]
  },
  {
   "cell_type": "code",
   "execution_count": 11,
   "id": "41755e7c",
   "metadata": {},
   "outputs": [
    {
     "name": "stdout",
     "output_type": "stream",
     "text": [
      "              precision    recall  f1-score   support\n",
      "\n",
      "           0       0.47      0.42      0.44       151\n",
      "           1       0.42      0.51      0.46       116\n",
      "           2       0.48      0.46      0.47       184\n",
      "\n",
      "    accuracy                           0.46       451\n",
      "   macro avg       0.46      0.46      0.46       451\n",
      "weighted avg       0.46      0.46      0.46       451\n",
      "\n"
     ]
    }
   ],
   "source": [
    "y_pred = fitmodel.predict(X_test)\n",
    "print(classification_report(y_test, y_pred))"
   ]
  },
  {
   "cell_type": "code",
   "execution_count": 12,
   "id": "fc9d02eb",
   "metadata": {},
   "outputs": [
    {
     "data": {
      "image/png": "[encoded data removed]",
      "text/plain": [
       "<Figure size 432x288 with 2 Axes>"
      ]
     },
     "metadata": {
      "needs_background": "light"
     },
     "output_type": "display_data"
    }
   ],
   "source": [
    "# confusion matrix seaborn heatmap\n",
    "import seaborn as sns\n",
    "import matplotlib.pyplot as plt\n",
    "from sklearn.metrics import confusion_matrix\n",
    "cm = confusion_matrix(y_test, y_pred)\n",
    "sns.heatmap(cm, annot=True, fmt='d')\n",
    "plt.show()"
   ]
  },
  {
   "cell_type": "markdown",
   "id": "aab3344a",
   "metadata": {},
   "source": [
    "## Deep learning models data preparation"
   ]
  },
  {
   "cell_type": "code",
   "execution_count": 13,
   "id": "615e29f6",
   "metadata": {},
   "outputs": [
    {
     "name": "stderr",
     "output_type": "stream",
     "text": [
      "2022-12-06 20:23:55.292262: I tensorflow/core/platform/cpu_feature_guard.cc:193] This TensorFlow binary is optimized with oneAPI Deep Neural Network Library (oneDNN) to use the following CPU instructions in performance-critical operations:  AVX2 AVX512F AVX512_VNNI FMA\n",
      "To enable them in other operations, rebuild TensorFlow with the appropriate compiler flags.\n",
      "2022-12-06 20:23:55.574616: I tensorflow/core/util/util.cc:169] oneDNN custom operations are on. You may see slightly different numerical results due to floating-point round-off errors from different computation orders. To turn them off, set the environment variable `TF_ENABLE_ONEDNN_OPTS=0`.\n",
      "2022-12-06 20:23:55.649114: W tensorflow/stream_executor/platform/default/dso_loader.cc:64] Could not load dynamic library 'libcudart.so.11.0'; dlerror: libcudart.so.11.0: cannot open shared object file: No such file or directory\n",
      "2022-12-06 20:23:55.649152: I tensorflow/stream_executor/cuda/cudart_stub.cc:29] Ignore above cudart dlerror if you do not have a GPU set up on your machine.\n",
      "2022-12-06 20:23:55.695700: E tensorflow/stream_executor/cuda/cuda_blas.cc:2981] Unable to register cuBLAS factory: Attempting to register factory for plugin cuBLAS when one has already been registered\n",
      "2022-12-06 20:23:56.527697: W tensorflow/stream_executor/platform/default/dso_loader.cc:64] Could not load dynamic library 'libnvinfer.so.7'; dlerror: libnvinfer.so.7: cannot open shared object file: No such file or directory\n",
      "2022-12-06 20:23:56.527785: W tensorflow/stream_executor/platform/default/dso_loader.cc:64] Could not load dynamic library 'libnvinfer_plugin.so.7'; dlerror: libnvinfer_plugin.so.7: cannot open shared object file: No such file or directory\n",
      "2022-12-06 20:23:56.527792: W tensorflow/compiler/tf2tensorrt/utils/py_utils.cc:38] TF-TRT Warning: Cannot dlopen some TensorRT libraries. If you would like to use Nvidia GPU with TensorRT, please make sure the missing libraries mentioned above are installed properly.\n"
     ]
    }
   ],
   "source": [
    "from tensorflow.keras.layers import Flatten, Dense, Conv1D, MaxPool1D, Dropout,MaxPooling1D,LSTM\n",
    "from tensorflow.keras.models import Sequential\n",
    "from keras.utils import to_categorical"
   ]
  },
  {
   "cell_type": "code",
   "execution_count": 14,
   "id": "11521e64",
   "metadata": {},
   "outputs": [],
   "source": [
    "#Reshape train and test data to (n_samples, 187, 1), where each sample is of size (187, 1)\n",
    "X_train = np.array(X_train).reshape(X_train.shape[0], X_train.shape[1], 1)\n",
    "X_test = np.array(X_test).reshape(X_test.shape[0], X_test.shape[1], 1)"
   ]
  },
  {
   "cell_type": "code",
   "execution_count": 15,
   "id": "dcb45d6f",
   "metadata": {},
   "outputs": [],
   "source": [
    "y_test_old = y_test.copy()"
   ]
  },
  {
   "cell_type": "code",
   "execution_count": 16,
   "id": "528d8afd",
   "metadata": {},
   "outputs": [],
   "source": [
    "y_train = to_categorical(y_train)\n",
    "y_test = to_categorical(y_test)"
   ]
  },
  {
   "cell_type": "markdown",
   "id": "486ddd1d",
   "metadata": {},
   "source": [
    "## 1-D Convolution"
   ]
  },
  {
   "cell_type": "code",
   "execution_count": 18,
   "id": "038c144d",
   "metadata": {},
   "outputs": [
    {
     "name": "stderr",
     "output_type": "stream",
     "text": [
      "2022-12-06 20:24:34.859297: W tensorflow/stream_executor/platform/default/dso_loader.cc:64] Could not load dynamic library 'libcuda.so.1'; dlerror: libcuda.so.1: cannot open shared object file: No such file or directory\n",
      "2022-12-06 20:24:34.859574: W tensorflow/stream_executor/cuda/cuda_driver.cc:263] failed call to cuInit: UNKNOWN ERROR (303)\n",
      "2022-12-06 20:24:34.859597: I tensorflow/stream_executor/cuda/cuda_diagnostics.cc:156] kernel driver does not appear to be running on this host (TEO-Tabeed): /proc/driver/nvidia/version does not exist\n",
      "2022-12-06 20:24:34.860580: I tensorflow/core/platform/cpu_feature_guard.cc:193] This TensorFlow binary is optimized with oneAPI Deep Neural Network Library (oneDNN) to use the following CPU instructions in performance-critical operations:  AVX2 AVX512F AVX512_VNNI FMA\n",
      "To enable them in other operations, rebuild TensorFlow with the appropriate compiler flags.\n"
     ]
    }
   ],
   "source": [
    "model = Sequential()\n",
    "model.add(Conv1D(filters=64, kernel_size=3, activation='relu', input_shape=(X_train.shape[1],1)))\n",
    "model.add(Dropout(0.5))\n",
    "model.add(MaxPooling1D(pool_size=2))\n",
    "model.add(Flatten())\n",
    "model.add(Dense(100, activation='relu'))\n",
    "model.add(Dense(y_train.shape[1], activation='softmax'))\n",
    "model.compile(loss='categorical_crossentropy', optimizer='adam', metrics=['accuracy'])"
   ]
  },
  {
   "cell_type": "code",
   "execution_count": 19,
   "id": "4090a290",
   "metadata": {},
   "outputs": [
    {
     "name": "stdout",
     "output_type": "stream",
     "text": [
      "Epoch 1/20\n",
      "43/43 [==============================] - 1s 2ms/step - loss: 5.4542 - accuracy: 0.3595\n",
      "Epoch 2/20\n",
      "43/43 [==============================] - 0s 2ms/step - loss: 2.7078 - accuracy: 0.3550\n",
      "Epoch 3/20\n",
      "43/43 [==============================] - 0s 2ms/step - loss: 1.9718 - accuracy: 0.3720\n",
      "Epoch 4/20\n",
      "43/43 [==============================] - 0s 2ms/step - loss: 1.5202 - accuracy: 0.3920\n",
      "Epoch 5/20\n",
      "43/43 [==============================] - 0s 1ms/step - loss: 1.4470 - accuracy: 0.3661\n",
      "Epoch 6/20\n",
      "43/43 [==============================] - 0s 1ms/step - loss: 1.3621 - accuracy: 0.3602\n",
      "Epoch 7/20\n",
      "43/43 [==============================] - 0s 1ms/step - loss: 1.2496 - accuracy: 0.3972\n",
      "Epoch 8/20\n",
      "43/43 [==============================] - 0s 2ms/step - loss: 1.1911 - accuracy: 0.3817\n",
      "Epoch 9/20\n",
      "43/43 [==============================] - 0s 2ms/step - loss: 1.2177 - accuracy: 0.3839\n",
      "Epoch 10/20\n",
      "43/43 [==============================] - 0s 2ms/step - loss: 1.1412 - accuracy: 0.3920\n",
      "Epoch 11/20\n",
      "43/43 [==============================] - 0s 2ms/step - loss: 1.1082 - accuracy: 0.4098\n",
      "Epoch 12/20\n",
      "43/43 [==============================] - 0s 2ms/step - loss: 1.1458 - accuracy: 0.3521\n",
      "Epoch 13/20\n",
      "43/43 [==============================] - 0s 2ms/step - loss: 1.1109 - accuracy: 0.3572\n",
      "Epoch 14/20\n",
      "43/43 [==============================] - 0s 2ms/step - loss: 1.0864 - accuracy: 0.4024\n",
      "Epoch 15/20\n",
      "43/43 [==============================] - 0s 2ms/step - loss: 1.0942 - accuracy: 0.3765\n",
      "Epoch 16/20\n",
      "43/43 [==============================] - 0s 1ms/step - loss: 1.0709 - accuracy: 0.3868\n",
      "Epoch 17/20\n",
      "43/43 [==============================] - 0s 1ms/step - loss: 1.0659 - accuracy: 0.4083\n",
      "Epoch 18/20\n",
      "43/43 [==============================] - 0s 2ms/step - loss: 1.0666 - accuracy: 0.3868\n",
      "Epoch 19/20\n",
      "43/43 [==============================] - 0s 2ms/step - loss: 1.0700 - accuracy: 0.3876\n",
      "Epoch 20/20\n",
      "43/43 [==============================] - 0s 2ms/step - loss: 1.0609 - accuracy: 0.4053\n"
     ]
    }
   ],
   "source": [
    "# fit network\n",
    "history_1d = model.fit(X_train, y_train, epochs=20)\n",
    "# evaluate model"
   ]
  },
  {
   "cell_type": "code",
   "execution_count": 20,
   "id": "0f17a4f1",
   "metadata": {},
   "outputs": [
    {
     "name": "stdout",
     "output_type": "stream",
     "text": [
      "15/15 [==============================] - 0s 1ms/step - loss: 1.0689 - accuracy: 0.3858\n"
     ]
    }
   ],
   "source": [
    "_, accuracy = model.evaluate(X_test, y_test)"
   ]
  },
  {
   "cell_type": "code",
   "execution_count": 21,
   "id": "02b16255",
   "metadata": {},
   "outputs": [
    {
     "name": "stdout",
     "output_type": "stream",
     "text": [
      "15/15 [==============================] - 0s 752us/step\n",
      "              precision    recall  f1-score   support\n",
      "\n",
      "           0       0.00      0.00      0.00       151\n",
      "           1       0.31      0.39      0.34       116\n",
      "           2       0.42      0.70      0.53       184\n",
      "\n",
      "    accuracy                           0.39       451\n",
      "   macro avg       0.24      0.36      0.29       451\n",
      "weighted avg       0.25      0.39      0.30       451\n",
      "\n"
     ]
    }
   ],
   "source": [
    "pred_result = model.predict(X_test)\n",
    "final_pred = [np.argmax(i) for i in pred_result]\n",
    "print(classification_report(y_test_old,final_pred))"
   ]
  },
  {
   "cell_type": "code",
   "execution_count": 22,
   "id": "68f18775",
   "metadata": {},
   "outputs": [
    {
     "data": {
      "image/png": "[encoded data removed]",
      "text/plain": [
       "<Figure size 432x288 with 2 Axes>"
      ]
     },
     "metadata": {
      "needs_background": "light"
     },
     "output_type": "display_data"
    }
   ],
   "source": [
    "# confusion matrix seaborn heatmap\n",
    "import seaborn as sns\n",
    "import matplotlib.pyplot as plt\n",
    "from sklearn.metrics import confusion_matrix\n",
    "cm = confusion_matrix(y_test_old,final_pred)\n",
    "sns.heatmap(cm, annot=True, fmt='d')\n",
    "plt.show()"
   ]
  },
  {
   "cell_type": "markdown",
   "id": "9eb9d277",
   "metadata": {},
   "source": [
    "## LSTM"
   ]
  },
  {
   "cell_type": "code",
   "execution_count": 23,
   "id": "6fc864ba",
   "metadata": {},
   "outputs": [
    {
     "name": "stdout",
     "output_type": "stream",
     "text": [
      "Model: \"sequential_1\"\n",
      "_________________________________________________________________\n",
      " Layer (type)                Output Shape              Param #   \n",
      "=================================================================\n",
      " lstm (LSTM)                 (None, 100)               40800     \n",
      "                                                                 \n",
      " dropout_1 (Dropout)         (None, 100)               0         \n",
      "                                                                 \n",
      " dense_2 (Dense)             (None, 100)               10100     \n",
      "                                                                 \n",
      " dense_3 (Dense)             (None, 3)                 303       \n",
      "                                                                 \n",
      "=================================================================\n",
      "Total params: 51,203\n",
      "Trainable params: 51,203\n",
      "Non-trainable params: 0\n",
      "_________________________________________________________________\n"
     ]
    }
   ],
   "source": [
    "lstm_model = Sequential()\n",
    "lstm_model.add(LSTM(100, input_shape=(X_train.shape[1],1)))\n",
    "lstm_model.add(Dropout(0.5))\n",
    "lstm_model.add(Dense(100, activation=\"relu\"))\n",
    "lstm_model.add(Dense(y_train.shape[1], activation=\"softmax\"))\n",
    "lstm_model.compile(loss=\"categorical_crossentropy\", optimizer=\"adam\", metrics=[\"accuracy\"])\n",
    "lstm_model.summary()"
   ]
  },
  {
   "cell_type": "code",
   "execution_count": 24,
   "id": "1ff6f628",
   "metadata": {},
   "outputs": [
    {
     "name": "stdout",
     "output_type": "stream",
     "text": [
      "Epoch 1/100\n",
      "43/43 [==============================] - 1s 3ms/step - loss: 1.1337 - accuracy: 0.3491\n",
      "Epoch 2/100\n",
      "43/43 [==============================] - 0s 3ms/step - loss: 1.0896 - accuracy: 0.3876\n",
      "Epoch 3/100\n",
      "43/43 [==============================] - 0s 3ms/step - loss: 1.0597 - accuracy: 0.3928\n",
      "Epoch 4/100\n",
      "43/43 [==============================] - 0s 3ms/step - loss: 1.0318 - accuracy: 0.4061\n",
      "Epoch 5/100\n",
      "43/43 [==============================] - 0s 3ms/step - loss: 1.0344 - accuracy: 0.4216\n",
      "Epoch 6/100\n",
      "43/43 [==============================] - 0s 3ms/step - loss: 1.0151 - accuracy: 0.4379\n",
      "Epoch 7/100\n",
      "43/43 [==============================] - 0s 4ms/step - loss: 1.0209 - accuracy: 0.4246\n",
      "Epoch 8/100\n",
      "43/43 [==============================] - 0s 3ms/step - loss: 1.0151 - accuracy: 0.4201\n",
      "Epoch 9/100\n",
      "43/43 [==============================] - 0s 3ms/step - loss: 1.0113 - accuracy: 0.4305\n",
      "Epoch 10/100\n",
      "43/43 [==============================] - 0s 3ms/step - loss: 1.0205 - accuracy: 0.4201\n",
      "Epoch 11/100\n",
      "43/43 [==============================] - 0s 3ms/step - loss: 1.0102 - accuracy: 0.4334\n",
      "Epoch 12/100\n",
      "43/43 [==============================] - 0s 3ms/step - loss: 1.0058 - accuracy: 0.4475\n",
      "Epoch 13/100\n",
      "43/43 [==============================] - 0s 3ms/step - loss: 1.0073 - accuracy: 0.4290\n",
      "Epoch 14/100\n",
      "43/43 [==============================] - 0s 3ms/step - loss: 1.0001 - accuracy: 0.4430\n",
      "Epoch 15/100\n",
      "43/43 [==============================] - 0s 3ms/step - loss: 1.0067 - accuracy: 0.4275\n",
      "Epoch 16/100\n",
      "43/43 [==============================] - 0s 3ms/step - loss: 1.0035 - accuracy: 0.4334\n",
      "Epoch 17/100\n",
      "43/43 [==============================] - 0s 3ms/step - loss: 0.9990 - accuracy: 0.4534\n",
      "Epoch 18/100\n",
      "43/43 [==============================] - 0s 3ms/step - loss: 1.0047 - accuracy: 0.4423\n",
      "Epoch 19/100\n",
      "43/43 [==============================] - 0s 3ms/step - loss: 0.9999 - accuracy: 0.4430\n",
      "Epoch 20/100\n",
      "43/43 [==============================] - 0s 3ms/step - loss: 1.0049 - accuracy: 0.4231\n",
      "Epoch 21/100\n",
      "43/43 [==============================] - 0s 3ms/step - loss: 1.0032 - accuracy: 0.4320\n",
      "Epoch 22/100\n",
      "43/43 [==============================] - 0s 3ms/step - loss: 1.0039 - accuracy: 0.4430\n",
      "Epoch 23/100\n",
      "43/43 [==============================] - 0s 3ms/step - loss: 1.0117 - accuracy: 0.4357\n",
      "Epoch 24/100\n",
      "43/43 [==============================] - 0s 2ms/step - loss: 1.0054 - accuracy: 0.4438\n",
      "Epoch 25/100\n",
      "43/43 [==============================] - 0s 3ms/step - loss: 1.0010 - accuracy: 0.4445\n",
      "Epoch 26/100\n",
      "43/43 [==============================] - 0s 3ms/step - loss: 1.0074 - accuracy: 0.4445\n",
      "Epoch 27/100\n",
      "43/43 [==============================] - 0s 3ms/step - loss: 1.0115 - accuracy: 0.4430\n",
      "Epoch 28/100\n",
      "43/43 [==============================] - 0s 3ms/step - loss: 1.0032 - accuracy: 0.4460\n",
      "Epoch 29/100\n",
      "43/43 [==============================] - 0s 3ms/step - loss: 0.9999 - accuracy: 0.4438\n",
      "Epoch 30/100\n",
      "43/43 [==============================] - 0s 3ms/step - loss: 0.9940 - accuracy: 0.4430\n",
      "Epoch 31/100\n",
      "43/43 [==============================] - 0s 3ms/step - loss: 0.9960 - accuracy: 0.4601\n",
      "Epoch 32/100\n",
      "43/43 [==============================] - 0s 3ms/step - loss: 1.0039 - accuracy: 0.4623\n",
      "Epoch 33/100\n",
      "43/43 [==============================] - 0s 3ms/step - loss: 0.9977 - accuracy: 0.4467\n",
      "Epoch 34/100\n",
      "43/43 [==============================] - 0s 3ms/step - loss: 1.0115 - accuracy: 0.4305\n",
      "Epoch 35/100\n",
      "43/43 [==============================] - 0s 3ms/step - loss: 1.0043 - accuracy: 0.4416\n",
      "Epoch 36/100\n",
      "43/43 [==============================] - 0s 4ms/step - loss: 1.0011 - accuracy: 0.4416\n",
      "Epoch 37/100\n",
      "43/43 [==============================] - 0s 3ms/step - loss: 0.9996 - accuracy: 0.4445\n",
      "Epoch 38/100\n",
      "43/43 [==============================] - 0s 3ms/step - loss: 1.0025 - accuracy: 0.4357\n",
      "Epoch 39/100\n",
      "43/43 [==============================] - 0s 3ms/step - loss: 0.9992 - accuracy: 0.4549\n",
      "Epoch 40/100\n",
      "43/43 [==============================] - 0s 4ms/step - loss: 1.0067 - accuracy: 0.4467\n",
      "Epoch 41/100\n",
      "43/43 [==============================] - 0s 3ms/step - loss: 1.0004 - accuracy: 0.4445\n",
      "Epoch 42/100\n",
      "43/43 [==============================] - 0s 3ms/step - loss: 0.9961 - accuracy: 0.4453\n",
      "Epoch 43/100\n",
      "43/43 [==============================] - 0s 3ms/step - loss: 0.9985 - accuracy: 0.4453\n",
      "Epoch 44/100\n",
      "43/43 [==============================] - 0s 3ms/step - loss: 0.9915 - accuracy: 0.4712\n",
      "Epoch 45/100\n",
      "43/43 [==============================] - 0s 3ms/step - loss: 0.9969 - accuracy: 0.4482\n",
      "Epoch 46/100\n",
      "43/43 [==============================] - 0s 3ms/step - loss: 0.9967 - accuracy: 0.4519\n",
      "Epoch 47/100\n",
      "43/43 [==============================] - 0s 2ms/step - loss: 0.9974 - accuracy: 0.4512\n",
      "Epoch 48/100\n",
      "43/43 [==============================] - 0s 3ms/step - loss: 0.9948 - accuracy: 0.4645\n",
      "Epoch 49/100\n",
      "43/43 [==============================] - 0s 3ms/step - loss: 1.0007 - accuracy: 0.4423\n",
      "Epoch 50/100\n",
      "43/43 [==============================] - 0s 2ms/step - loss: 0.9925 - accuracy: 0.4519\n",
      "Epoch 51/100\n",
      "43/43 [==============================] - 0s 3ms/step - loss: 1.0027 - accuracy: 0.4438\n",
      "Epoch 52/100\n",
      "43/43 [==============================] - 0s 3ms/step - loss: 0.9954 - accuracy: 0.4601\n",
      "Epoch 53/100\n",
      "43/43 [==============================] - 0s 3ms/step - loss: 0.9918 - accuracy: 0.4460\n",
      "Epoch 54/100\n",
      "43/43 [==============================] - 0s 3ms/step - loss: 0.9928 - accuracy: 0.4475\n",
      "Epoch 55/100\n",
      "43/43 [==============================] - 0s 3ms/step - loss: 0.9940 - accuracy: 0.4667\n",
      "Epoch 56/100\n",
      "43/43 [==============================] - 0s 3ms/step - loss: 0.9991 - accuracy: 0.4490\n",
      "Epoch 57/100\n",
      "43/43 [==============================] - 0s 3ms/step - loss: 0.9978 - accuracy: 0.4556\n",
      "Epoch 58/100\n",
      "43/43 [==============================] - 0s 3ms/step - loss: 0.9987 - accuracy: 0.4504\n",
      "Epoch 59/100\n",
      "43/43 [==============================] - 0s 3ms/step - loss: 0.9982 - accuracy: 0.4490\n",
      "Epoch 60/100\n",
      "43/43 [==============================] - 0s 3ms/step - loss: 0.9954 - accuracy: 0.4549\n",
      "Epoch 61/100\n",
      "43/43 [==============================] - 0s 2ms/step - loss: 0.9932 - accuracy: 0.4490\n",
      "Epoch 62/100\n",
      "43/43 [==============================] - 0s 3ms/step - loss: 0.9983 - accuracy: 0.4223\n",
      "Epoch 63/100\n",
      "43/43 [==============================] - 0s 3ms/step - loss: 0.9964 - accuracy: 0.4541\n",
      "Epoch 64/100\n",
      "43/43 [==============================] - 0s 3ms/step - loss: 0.9926 - accuracy: 0.4490\n",
      "Epoch 65/100\n",
      "43/43 [==============================] - 0s 3ms/step - loss: 1.0006 - accuracy: 0.4467\n",
      "Epoch 66/100\n",
      "43/43 [==============================] - 0s 3ms/step - loss: 1.0007 - accuracy: 0.4334\n",
      "Epoch 67/100\n",
      "43/43 [==============================] - 0s 2ms/step - loss: 0.9984 - accuracy: 0.4482\n",
      "Epoch 68/100\n",
      "43/43 [==============================] - 0s 3ms/step - loss: 0.9932 - accuracy: 0.4497\n",
      "Epoch 69/100\n",
      "43/43 [==============================] - 0s 3ms/step - loss: 1.0018 - accuracy: 0.4371\n",
      "Epoch 70/100\n",
      "43/43 [==============================] - 0s 3ms/step - loss: 0.9931 - accuracy: 0.4608\n",
      "Epoch 71/100\n",
      "43/43 [==============================] - 0s 3ms/step - loss: 0.9913 - accuracy: 0.4675\n",
      "Epoch 72/100\n",
      "43/43 [==============================] - 0s 3ms/step - loss: 0.9963 - accuracy: 0.4438\n",
      "Epoch 73/100\n",
      "43/43 [==============================] - 0s 3ms/step - loss: 0.9918 - accuracy: 0.4586\n",
      "Epoch 74/100\n",
      "43/43 [==============================] - 0s 3ms/step - loss: 0.9921 - accuracy: 0.4615\n",
      "Epoch 75/100\n",
      "43/43 [==============================] - 0s 3ms/step - loss: 0.9912 - accuracy: 0.4527\n",
      "Epoch 76/100\n",
      "43/43 [==============================] - 0s 3ms/step - loss: 0.9943 - accuracy: 0.4556\n",
      "Epoch 77/100\n",
      "43/43 [==============================] - 0s 3ms/step - loss: 0.9911 - accuracy: 0.4393\n",
      "Epoch 78/100\n",
      "43/43 [==============================] - 0s 2ms/step - loss: 0.9925 - accuracy: 0.4645\n",
      "Epoch 79/100\n",
      "43/43 [==============================] - 0s 2ms/step - loss: 0.9983 - accuracy: 0.4371\n",
      "Epoch 80/100\n",
      "43/43 [==============================] - 0s 3ms/step - loss: 0.9927 - accuracy: 0.4593\n",
      "Epoch 81/100\n",
      "43/43 [==============================] - 0s 4ms/step - loss: 0.9937 - accuracy: 0.4490\n",
      "Epoch 82/100\n",
      "43/43 [==============================] - 0s 3ms/step - loss: 0.9900 - accuracy: 0.4490\n",
      "Epoch 83/100\n",
      "43/43 [==============================] - 0s 3ms/step - loss: 0.9917 - accuracy: 0.4460\n",
      "Epoch 84/100\n",
      "43/43 [==============================] - 0s 3ms/step - loss: 0.9982 - accuracy: 0.4519\n",
      "Epoch 85/100\n",
      "43/43 [==============================] - 0s 3ms/step - loss: 0.9927 - accuracy: 0.4497\n",
      "Epoch 86/100\n",
      "43/43 [==============================] - 0s 3ms/step - loss: 0.9953 - accuracy: 0.4556\n",
      "Epoch 87/100\n",
      "43/43 [==============================] - 0s 2ms/step - loss: 0.9892 - accuracy: 0.4453\n",
      "Epoch 88/100\n",
      "43/43 [==============================] - 0s 2ms/step - loss: 0.9963 - accuracy: 0.4564\n",
      "Epoch 89/100\n",
      "43/43 [==============================] - 0s 3ms/step - loss: 0.9903 - accuracy: 0.4445\n",
      "Epoch 90/100\n",
      "43/43 [==============================] - 0s 3ms/step - loss: 0.9941 - accuracy: 0.4601\n",
      "Epoch 91/100\n",
      "43/43 [==============================] - 0s 3ms/step - loss: 0.9954 - accuracy: 0.4497\n",
      "Epoch 92/100\n",
      "43/43 [==============================] - 0s 3ms/step - loss: 0.9949 - accuracy: 0.4527\n",
      "Epoch 93/100\n",
      "43/43 [==============================] - 0s 3ms/step - loss: 0.9966 - accuracy: 0.4527\n",
      "Epoch 94/100\n",
      "43/43 [==============================] - 0s 3ms/step - loss: 0.9897 - accuracy: 0.4615\n",
      "Epoch 95/100\n",
      "43/43 [==============================] - 0s 3ms/step - loss: 0.9895 - accuracy: 0.4630\n",
      "Epoch 96/100\n",
      "43/43 [==============================] - 0s 3ms/step - loss: 0.9939 - accuracy: 0.4460\n",
      "Epoch 97/100\n",
      "43/43 [==============================] - 0s 3ms/step - loss: 0.9960 - accuracy: 0.4645\n",
      "Epoch 98/100\n",
      "43/43 [==============================] - 0s 3ms/step - loss: 0.9919 - accuracy: 0.4578\n",
      "Epoch 99/100\n",
      "43/43 [==============================] - 0s 3ms/step - loss: 0.9878 - accuracy: 0.4615\n",
      "Epoch 100/100\n",
      "43/43 [==============================] - 0s 3ms/step - loss: 0.9923 - accuracy: 0.4726\n"
     ]
    }
   ],
   "source": [
    "# fit network\n",
    "history_lstm = lstm_model.fit(X_train, y_train, epochs=100)\n",
    "# evaluate model"
   ]
  },
  {
   "cell_type": "code",
   "execution_count": 25,
   "id": "582b0d0a",
   "metadata": {},
   "outputs": [
    {
     "name": "stdout",
     "output_type": "stream",
     "text": [
      "15/15 [==============================] - 0s 1ms/step - loss: 1.0430 - accuracy: 0.4302\n"
     ]
    }
   ],
   "source": [
    "_, accuracy = lstm_model.evaluate(X_test, y_test)"
   ]
  },
  {
   "cell_type": "code",
   "execution_count": 27,
   "id": "752eb403",
   "metadata": {},
   "outputs": [
    {
     "name": "stdout",
     "output_type": "stream",
     "text": [
      "15/15 [==============================] - 0s 1ms/step\n"
     ]
    }
   ],
   "source": [
    "lstm_pred_result = lstm_model.predict(X_test)"
   ]
  },
  {
   "cell_type": "code",
   "execution_count": 28,
   "id": "92ed95ce",
   "metadata": {},
   "outputs": [],
   "source": [
    "final_pred_lstm = [np.argmax(i) for i in lstm_pred_result]"
   ]
  },
  {
   "cell_type": "code",
   "execution_count": 29,
   "id": "26da4d0f",
   "metadata": {},
   "outputs": [
    {
     "name": "stdout",
     "output_type": "stream",
     "text": [
      "              precision    recall  f1-score   support\n",
      "\n",
      "           0       0.43      0.40      0.42       151\n",
      "           1       0.40      0.73      0.52       116\n",
      "           2       0.49      0.27      0.35       184\n",
      "\n",
      "    accuracy                           0.43       451\n",
      "   macro avg       0.44      0.47      0.43       451\n",
      "weighted avg       0.45      0.43      0.41       451\n",
      "\n"
     ]
    }
   ],
   "source": [
    "print(classification_report(y_test_old,final_pred_lstm))"
   ]
  },
  {
   "cell_type": "code",
   "execution_count": 30,
   "id": "9d0de2d4",
   "metadata": {},
   "outputs": [
    {
     "data": {
      "image/png": "[encoded data removed]",
      "text/plain": [
       "<Figure size 432x288 with 2 Axes>"
      ]
     },
     "metadata": {
      "needs_background": "light"
     },
     "output_type": "display_data"
    }
   ],
   "source": [
    "import seaborn as sns\n",
    "import matplotlib.pyplot as plt\n",
    "from sklearn.metrics import confusion_matrix\n",
    "cm = confusion_matrix(y_test_old,final_pred_lstm)\n",
    "sns.heatmap(cm, annot=True, fmt='d')\n",
    "plt.show()"
   ]
  }
 ],
 "metadata": {
  "kernelspec": {
   "display_name": "Python 3 (ipykernel)",
   "language": "python",
   "name": "python3"
  },
  "language_info": {
   "codemirror_mode": {
    "name": "ipython",
    "version": 3
   },
   "file_extension": ".py",
   "mimetype": "text/x-python",
   "name": "python",
   "nbconvert_exporter": "python",
   "pygments_lexer": "ipython3",
   "version": "3.8.10"
  },
  "vscode": {
   "interpreter": {
    "hash": "916dbcbb3f70747c44a77c7bcd40155683ae19c65e1c03b4aa3499c5328201f1"
   }
  }
 },
 "nbformat": 4,
 "nbformat_minor": 5
}
