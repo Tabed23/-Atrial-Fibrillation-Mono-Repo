{
 "cells": [
  {
   "cell_type": "code",
   "execution_count": 1,
   "id": "1ce6180c",
   "metadata": {},
   "outputs": [],
   "source": [
    "import pandas as pd\n",
    "import numpy as np\n",
    "import pickle\n",
    "import scipy\n",
    "from sklearn.preprocessing import MinMaxScaler, StandardScaler\n",
    "from sklearn.neighbors import KNeighborsClassifier, KNeighborsRegressor\n",
    "from sklearn.ensemble import RandomForestClassifier, RandomForestRegressor\n",
    "from sklearn.linear_model import LogisticRegression, LinearRegression, LogisticRegressionCV, SGDClassifier, RidgeClassifier\n",
    "from sklearn.metrics import accuracy_score, r2_score, mean_squared_error, mean_absolute_error, f1_score\n",
    "from sklearn.model_selection import train_test_split, cross_validate, GridSearchCV, RandomizedSearchCV\n",
    "from sklearn.feature_selection import SelectKBest, f_regression\n",
    "from sklearn import svm, linear_model\n",
    "from sklearn import tree, metrics\n",
    "from sklearn.metrics import classification_report\n",
    "import warnings\n",
    "warnings.filterwarnings('ignore')\n",
    "from sklearn.preprocessing import LabelEncoder\n",
    "import gzip"
   ]
  },
  {
   "cell_type": "code",
   "execution_count": 2,
   "id": "3dc61425",
   "metadata": {},
   "outputs": [
    {
     "data": {
      "text/html": [
       "<div>\n",
       "<style scoped>\n",
       "    .dataframe tbody tr th:only-of-type {\n",
       "        vertical-align: middle;\n",
       "    }\n",
       "\n",
       "    .dataframe tbody tr th {\n",
       "        vertical-align: top;\n",
       "    }\n",
       "\n",
       "    .dataframe thead th {\n",
       "        text-align: right;\n",
       "    }\n",
       "</style>\n",
       "<table border=\"1\" class=\"dataframe\">\n",
       "  <thead>\n",
       "    <tr style=\"text-align: right;\">\n",
       "      <th></th>\n",
       "      <th>I</th>\n",
       "      <th>II</th>\n",
       "      <th>III</th>\n",
       "      <th>aVF</th>\n",
       "      <th>aVR</th>\n",
       "      <th>aVL</th>\n",
       "      <th>V1</th>\n",
       "      <th>V2</th>\n",
       "      <th>V3</th>\n",
       "      <th>V4</th>\n",
       "      <th>...</th>\n",
       "      <th>weight</th>\n",
       "      <th>nurse</th>\n",
       "      <th>site</th>\n",
       "      <th>device</th>\n",
       "      <th>heart_axis</th>\n",
       "      <th>validated_by</th>\n",
       "      <th>second_opinion</th>\n",
       "      <th>validated_by_human</th>\n",
       "      <th>pacemaker</th>\n",
       "      <th>strat_fold</th>\n",
       "    </tr>\n",
       "  </thead>\n",
       "  <tbody>\n",
       "    <tr>\n",
       "      <th>0</th>\n",
       "      <td>-0.005</td>\n",
       "      <td>0.135</td>\n",
       "      <td>0.140</td>\n",
       "      <td>-0.065</td>\n",
       "      <td>-0.073</td>\n",
       "      <td>0.137</td>\n",
       "      <td>-0.125</td>\n",
       "      <td>-0.090</td>\n",
       "      <td>-0.110</td>\n",
       "      <td>-0.210</td>\n",
       "      <td>...</td>\n",
       "      <td>69.841845</td>\n",
       "      <td>0.0</td>\n",
       "      <td>0.0</td>\n",
       "      <td>0</td>\n",
       "      <td>3.0</td>\n",
       "      <td>0.0</td>\n",
       "      <td>0</td>\n",
       "      <td>0</td>\n",
       "      <td>0.0</td>\n",
       "      <td>6</td>\n",
       "    </tr>\n",
       "    <tr>\n",
       "      <th>1</th>\n",
       "      <td>-0.005</td>\n",
       "      <td>0.135</td>\n",
       "      <td>0.140</td>\n",
       "      <td>-0.065</td>\n",
       "      <td>-0.073</td>\n",
       "      <td>0.137</td>\n",
       "      <td>-0.125</td>\n",
       "      <td>-0.090</td>\n",
       "      <td>-0.110</td>\n",
       "      <td>-0.211</td>\n",
       "      <td>...</td>\n",
       "      <td>69.841845</td>\n",
       "      <td>0.0</td>\n",
       "      <td>0.0</td>\n",
       "      <td>0</td>\n",
       "      <td>3.0</td>\n",
       "      <td>0.0</td>\n",
       "      <td>0</td>\n",
       "      <td>0</td>\n",
       "      <td>0.0</td>\n",
       "      <td>6</td>\n",
       "    </tr>\n",
       "    <tr>\n",
       "      <th>2</th>\n",
       "      <td>-0.005</td>\n",
       "      <td>0.131</td>\n",
       "      <td>0.136</td>\n",
       "      <td>-0.063</td>\n",
       "      <td>-0.070</td>\n",
       "      <td>0.133</td>\n",
       "      <td>-0.125</td>\n",
       "      <td>-0.082</td>\n",
       "      <td>-0.102</td>\n",
       "      <td>-0.190</td>\n",
       "      <td>...</td>\n",
       "      <td>69.841845</td>\n",
       "      <td>0.0</td>\n",
       "      <td>0.0</td>\n",
       "      <td>0</td>\n",
       "      <td>3.0</td>\n",
       "      <td>0.0</td>\n",
       "      <td>0</td>\n",
       "      <td>0</td>\n",
       "      <td>0.0</td>\n",
       "      <td>6</td>\n",
       "    </tr>\n",
       "    <tr>\n",
       "      <th>3</th>\n",
       "      <td>-0.005</td>\n",
       "      <td>0.130</td>\n",
       "      <td>0.135</td>\n",
       "      <td>-0.063</td>\n",
       "      <td>-0.070</td>\n",
       "      <td>0.132</td>\n",
       "      <td>-0.122</td>\n",
       "      <td>-0.077</td>\n",
       "      <td>-0.094</td>\n",
       "      <td>-0.172</td>\n",
       "      <td>...</td>\n",
       "      <td>69.841845</td>\n",
       "      <td>0.0</td>\n",
       "      <td>0.0</td>\n",
       "      <td>0</td>\n",
       "      <td>3.0</td>\n",
       "      <td>0.0</td>\n",
       "      <td>0</td>\n",
       "      <td>0</td>\n",
       "      <td>0.0</td>\n",
       "      <td>6</td>\n",
       "    </tr>\n",
       "    <tr>\n",
       "      <th>4</th>\n",
       "      <td>-0.005</td>\n",
       "      <td>0.128</td>\n",
       "      <td>0.133</td>\n",
       "      <td>-0.062</td>\n",
       "      <td>-0.069</td>\n",
       "      <td>0.130</td>\n",
       "      <td>-0.119</td>\n",
       "      <td>-0.071</td>\n",
       "      <td>-0.084</td>\n",
       "      <td>-0.157</td>\n",
       "      <td>...</td>\n",
       "      <td>69.841845</td>\n",
       "      <td>0.0</td>\n",
       "      <td>0.0</td>\n",
       "      <td>0</td>\n",
       "      <td>3.0</td>\n",
       "      <td>0.0</td>\n",
       "      <td>0</td>\n",
       "      <td>0</td>\n",
       "      <td>0.0</td>\n",
       "      <td>6</td>\n",
       "    </tr>\n",
       "    <tr>\n",
       "      <th>...</th>\n",
       "      <td>...</td>\n",
       "      <td>...</td>\n",
       "      <td>...</td>\n",
       "      <td>...</td>\n",
       "      <td>...</td>\n",
       "      <td>...</td>\n",
       "      <td>...</td>\n",
       "      <td>...</td>\n",
       "      <td>...</td>\n",
       "      <td>...</td>\n",
       "      <td>...</td>\n",
       "      <td>...</td>\n",
       "      <td>...</td>\n",
       "      <td>...</td>\n",
       "      <td>...</td>\n",
       "      <td>...</td>\n",
       "      <td>...</td>\n",
       "      <td>...</td>\n",
       "      <td>...</td>\n",
       "      <td>...</td>\n",
       "      <td>...</td>\n",
       "    </tr>\n",
       "    <tr>\n",
       "      <th>4319171</th>\n",
       "      <td>0.010</td>\n",
       "      <td>0.170</td>\n",
       "      <td>0.160</td>\n",
       "      <td>-0.090</td>\n",
       "      <td>-0.075</td>\n",
       "      <td>0.165</td>\n",
       "      <td>0.155</td>\n",
       "      <td>0.365</td>\n",
       "      <td>0.230</td>\n",
       "      <td>0.030</td>\n",
       "      <td>...</td>\n",
       "      <td>69.841845</td>\n",
       "      <td>1.0</td>\n",
       "      <td>2.0</td>\n",
       "      <td>1</td>\n",
       "      <td>3.0</td>\n",
       "      <td>1.0</td>\n",
       "      <td>0</td>\n",
       "      <td>1</td>\n",
       "      <td>0.0</td>\n",
       "      <td>8</td>\n",
       "    </tr>\n",
       "    <tr>\n",
       "      <th>4319172</th>\n",
       "      <td>0.014</td>\n",
       "      <td>0.174</td>\n",
       "      <td>0.160</td>\n",
       "      <td>-0.094</td>\n",
       "      <td>-0.073</td>\n",
       "      <td>0.167</td>\n",
       "      <td>0.155</td>\n",
       "      <td>0.368</td>\n",
       "      <td>0.245</td>\n",
       "      <td>0.029</td>\n",
       "      <td>...</td>\n",
       "      <td>69.841845</td>\n",
       "      <td>1.0</td>\n",
       "      <td>2.0</td>\n",
       "      <td>1</td>\n",
       "      <td>3.0</td>\n",
       "      <td>1.0</td>\n",
       "      <td>0</td>\n",
       "      <td>1</td>\n",
       "      <td>0.0</td>\n",
       "      <td>8</td>\n",
       "    </tr>\n",
       "    <tr>\n",
       "      <th>4319173</th>\n",
       "      <td>0.016</td>\n",
       "      <td>0.176</td>\n",
       "      <td>0.160</td>\n",
       "      <td>-0.096</td>\n",
       "      <td>-0.073</td>\n",
       "      <td>0.167</td>\n",
       "      <td>0.155</td>\n",
       "      <td>0.383</td>\n",
       "      <td>0.261</td>\n",
       "      <td>0.040</td>\n",
       "      <td>...</td>\n",
       "      <td>69.841845</td>\n",
       "      <td>1.0</td>\n",
       "      <td>2.0</td>\n",
       "      <td>1</td>\n",
       "      <td>3.0</td>\n",
       "      <td>1.0</td>\n",
       "      <td>0</td>\n",
       "      <td>1</td>\n",
       "      <td>0.0</td>\n",
       "      <td>8</td>\n",
       "    </tr>\n",
       "    <tr>\n",
       "      <th>4319174</th>\n",
       "      <td>0.014</td>\n",
       "      <td>0.174</td>\n",
       "      <td>0.160</td>\n",
       "      <td>-0.094</td>\n",
       "      <td>-0.073</td>\n",
       "      <td>0.167</td>\n",
       "      <td>0.155</td>\n",
       "      <td>0.406</td>\n",
       "      <td>0.282</td>\n",
       "      <td>0.059</td>\n",
       "      <td>...</td>\n",
       "      <td>69.841845</td>\n",
       "      <td>1.0</td>\n",
       "      <td>2.0</td>\n",
       "      <td>1</td>\n",
       "      <td>3.0</td>\n",
       "      <td>1.0</td>\n",
       "      <td>0</td>\n",
       "      <td>1</td>\n",
       "      <td>0.0</td>\n",
       "      <td>8</td>\n",
       "    </tr>\n",
       "    <tr>\n",
       "      <th>4319175</th>\n",
       "      <td>0.016</td>\n",
       "      <td>0.176</td>\n",
       "      <td>0.160</td>\n",
       "      <td>-0.096</td>\n",
       "      <td>-0.072</td>\n",
       "      <td>0.168</td>\n",
       "      <td>0.156</td>\n",
       "      <td>0.424</td>\n",
       "      <td>0.304</td>\n",
       "      <td>0.072</td>\n",
       "      <td>...</td>\n",
       "      <td>69.841845</td>\n",
       "      <td>1.0</td>\n",
       "      <td>2.0</td>\n",
       "      <td>1</td>\n",
       "      <td>3.0</td>\n",
       "      <td>1.0</td>\n",
       "      <td>0</td>\n",
       "      <td>1</td>\n",
       "      <td>0.0</td>\n",
       "      <td>8</td>\n",
       "    </tr>\n",
       "  </tbody>\n",
       "</table>\n",
       "<p>4319176 rows × 26 columns</p>\n",
       "</div>"
      ],
      "text/plain": [
       "             I     II    III    aVF    aVR    aVL     V1     V2     V3     V4  \\\n",
       "0       -0.005  0.135  0.140 -0.065 -0.073  0.137 -0.125 -0.090 -0.110 -0.210   \n",
       "1       -0.005  0.135  0.140 -0.065 -0.073  0.137 -0.125 -0.090 -0.110 -0.211   \n",
       "2       -0.005  0.131  0.136 -0.063 -0.070  0.133 -0.125 -0.082 -0.102 -0.190   \n",
       "3       -0.005  0.130  0.135 -0.063 -0.070  0.132 -0.122 -0.077 -0.094 -0.172   \n",
       "4       -0.005  0.128  0.133 -0.062 -0.069  0.130 -0.119 -0.071 -0.084 -0.157   \n",
       "...        ...    ...    ...    ...    ...    ...    ...    ...    ...    ...   \n",
       "4319171  0.010  0.170  0.160 -0.090 -0.075  0.165  0.155  0.365  0.230  0.030   \n",
       "4319172  0.014  0.174  0.160 -0.094 -0.073  0.167  0.155  0.368  0.245  0.029   \n",
       "4319173  0.016  0.176  0.160 -0.096 -0.073  0.167  0.155  0.383  0.261  0.040   \n",
       "4319174  0.014  0.174  0.160 -0.094 -0.073  0.167  0.155  0.406  0.282  0.059   \n",
       "4319175  0.016  0.176  0.160 -0.096 -0.072  0.168  0.156  0.424  0.304  0.072   \n",
       "\n",
       "         ...     weight  nurse  site  device  heart_axis  validated_by  \\\n",
       "0        ...  69.841845    0.0   0.0       0         3.0           0.0   \n",
       "1        ...  69.841845    0.0   0.0       0         3.0           0.0   \n",
       "2        ...  69.841845    0.0   0.0       0         3.0           0.0   \n",
       "3        ...  69.841845    0.0   0.0       0         3.0           0.0   \n",
       "4        ...  69.841845    0.0   0.0       0         3.0           0.0   \n",
       "...      ...        ...    ...   ...     ...         ...           ...   \n",
       "4319171  ...  69.841845    1.0   2.0       1         3.0           1.0   \n",
       "4319172  ...  69.841845    1.0   2.0       1         3.0           1.0   \n",
       "4319173  ...  69.841845    1.0   2.0       1         3.0           1.0   \n",
       "4319174  ...  69.841845    1.0   2.0       1         3.0           1.0   \n",
       "4319175  ...  69.841845    1.0   2.0       1         3.0           1.0   \n",
       "\n",
       "         second_opinion  validated_by_human  pacemaker  strat_fold  \n",
       "0                     0                   0        0.0           6  \n",
       "1                     0                   0        0.0           6  \n",
       "2                     0                   0        0.0           6  \n",
       "3                     0                   0        0.0           6  \n",
       "4                     0                   0        0.0           6  \n",
       "...                 ...                 ...        ...         ...  \n",
       "4319171               0                   1        0.0           8  \n",
       "4319172               0                   1        0.0           8  \n",
       "4319173               0                   1        0.0           8  \n",
       "4319174               0                   1        0.0           8  \n",
       "4319175               0                   1        0.0           8  \n",
       "\n",
       "[4319176 rows x 26 columns]"
      ]
     },
     "execution_count": 2,
     "metadata": {},
     "output_type": "execute_result"
    }
   ],
   "source": [
    "# read in csv\n",
    "df = pd.read_csv('training_25_features.csv')\n",
    "df"
   ]
  },
  {
   "cell_type": "code",
   "execution_count": 3,
   "id": "520f58bb",
   "metadata": {},
   "outputs": [
    {
     "name": "stdout",
     "output_type": "stream",
     "text": [
      "<class 'pandas.core.frame.DataFrame'>\n",
      "RangeIndex: 4319176 entries, 0 to 4319175\n",
      "Data columns (total 26 columns):\n",
      " #   Column              Dtype  \n",
      "---  ------              -----  \n",
      " 0   I                   float64\n",
      " 1   II                  float64\n",
      " 2   III                 float64\n",
      " 3   aVF                 float64\n",
      " 4   aVR                 float64\n",
      " 5   aVL                 float64\n",
      " 6   V1                  float64\n",
      " 7   V2                  float64\n",
      " 8   V3                  float64\n",
      " 9   V4                  float64\n",
      " 10  V5                  float64\n",
      " 11  V6                  float64\n",
      " 12  ritmi               float64\n",
      " 13  age                 float64\n",
      " 14  sex                 float64\n",
      " 15  height              float64\n",
      " 16  weight              float64\n",
      " 17  nurse               float64\n",
      " 18  site                float64\n",
      " 19  device              float64\n",
      " 20  heart_axis          float64\n",
      " 21  validated_by        float64\n",
      " 22  second_opinion      float64\n",
      " 23  validated_by_human  float64\n",
      " 24  pacemaker           float64\n",
      " 25  strat_fold          float64\n",
      "dtypes: float64(26)\n",
      "memory usage: 856.8 MB\n"
     ]
    }
   ],
   "source": [
    "# convert all the columns to float64\n",
    "for i in range(26):\n",
    "    df[df.columns[i]] = df[df.columns[i]].astype('float64')\n",
    "    \n",
    "# get info for columns\n",
    "df.info()"
   ]
  },
  {
   "cell_type": "code",
   "execution_count": 4,
   "id": "798e2473",
   "metadata": {},
   "outputs": [
    {
     "data": {
      "text/plain": [
       "Index(['I', 'II', 'III', 'aVF', 'aVR', 'aVL', 'V1', 'V2', 'V3', 'V4', 'V5',\n",
       "       'V6', 'ritmi', 'age', 'sex', 'height', 'weight', 'nurse', 'site',\n",
       "       'device', 'heart_axis', 'validated_by', 'second_opinion',\n",
       "       'validated_by_human', 'pacemaker', 'strat_fold'],\n",
       "      dtype='object')"
      ]
     },
     "execution_count": 4,
     "metadata": {},
     "output_type": "execute_result"
    }
   ],
   "source": [
    "df.columns"
   ]
  },
  {
   "cell_type": "code",
   "execution_count": 5,
   "id": "bf89fa52",
   "metadata": {},
   "outputs": [],
   "source": [
    "# train-test split\n",
    "X = df[['I','II','III','aVF','aVR','aVL','V1','V2','V3','V4','V5','V6','ritmi','age','sex','height','weight']]\n",
    "y = df['ritmi']\n",
    "X_train, X_test, y_train, y_test=train_test_split(X, y, test_size = 0.25, random_state = 1234)"
   ]
  },
  {
   "cell_type": "code",
   "execution_count": 5,
   "id": "bd290a43",
   "metadata": {},
   "outputs": [],
   "source": [
    "# Random Forest"
   ]
  },
  {
   "cell_type": "markdown",
   "id": "cd747618",
   "metadata": {},
   "source": [
    "# Random Forest"
   ]
  },
  {
   "cell_type": "code",
   "execution_count": 6,
   "id": "1cffa1dd",
   "metadata": {},
   "outputs": [
    {
     "name": "stdout",
     "output_type": "stream",
     "text": [
      "Best Score:1.0\n",
      "Best Parameters: {'criterion': 'entropy', 'max_depth': 45, 'n_estimators': 45}\n"
     ]
    }
   ],
   "source": [
    "# Plug in appropriate max_depth and random_state parameters\n",
    "rf = RandomForestClassifier()\n",
    "# rf_param_grid = {'n_estimators': [20], 'criterion': ['entropy'], 'max_depth': [20]} #0.9267653536506913\n",
    "rf_param_grid = {'n_estimators': [45], 'criterion': ['entropy'], 'max_depth': [45]} #0.9868391563552115\n",
    "rf_cv= GridSearchCV(rf,rf_param_grid,cv=7,n_jobs=-1)\n",
    "rf_cv.fit(X_train,y_train)\n",
    "\n",
    "print(\"Best Score:\" + str(rf_cv.best_score_))\n",
    "print(\"Best Parameters: \" + str(rf_cv.best_params_))"
   ]
  },
  {
   "cell_type": "code",
   "execution_count": 7,
   "id": "00e2b879",
   "metadata": {},
   "outputs": [
    {
     "name": "stdout",
     "output_type": "stream",
     "text": [
      "              precision    recall  f1-score   support\n",
      "\n",
      "         0.0       1.00      1.00      1.00   1009610\n",
      "         1.0       1.00      1.00      1.00    800602\n",
      "         2.0       1.00      1.00      1.00   1429170\n",
      "\n",
      "    accuracy                           1.00   3239382\n",
      "   macro avg       1.00      1.00      1.00   3239382\n",
      "weighted avg       1.00      1.00      1.00   3239382\n",
      "\n"
     ]
    }
   ],
   "source": [
    "y_train_pred = rf_cv.predict(X_train)\n",
    "print(classification_report(y_train, y_train_pred))"
   ]
  },
  {
   "cell_type": "code",
   "execution_count": 8,
   "id": "a799d1fe",
   "metadata": {},
   "outputs": [
    {
     "name": "stdout",
     "output_type": "stream",
     "text": [
      "              precision    recall  f1-score   support\n",
      "\n",
      "         0.0       1.00      1.00      1.00    335792\n",
      "         1.0       1.00      1.00      1.00    267846\n",
      "         2.0       1.00      1.00      1.00    476156\n",
      "\n",
      "    accuracy                           1.00   1079794\n",
      "   macro avg       1.00      1.00      1.00   1079794\n",
      "weighted avg       1.00      1.00      1.00   1079794\n",
      "\n"
     ]
    }
   ],
   "source": [
    "y_test_pred = rf_cv.predict(X_test)\n",
    "print(classification_report(y_test, y_test_pred))"
   ]
  },
  {
   "cell_type": "markdown",
   "id": "9c73c50c",
   "metadata": {},
   "source": [
    "## Deep learning models"
   ]
  },
  {
   "cell_type": "code",
   "execution_count": 9,
   "id": "78f5f8df",
   "metadata": {},
   "outputs": [
    {
     "name": "stderr",
     "output_type": "stream",
     "text": [
      "2022-12-05 14:29:00.443765: I tensorflow/core/platform/cpu_feature_guard.cc:193] This TensorFlow binary is optimized with oneAPI Deep Neural Network Library (oneDNN) to use the following CPU instructions in performance-critical operations:  AVX2 AVX512F AVX512_VNNI FMA\n",
      "To enable them in other operations, rebuild TensorFlow with the appropriate compiler flags.\n",
      "2022-12-05 14:29:00.733001: I tensorflow/core/util/util.cc:169] oneDNN custom operations are on. You may see slightly different numerical results due to floating-point round-off errors from different computation orders. To turn them off, set the environment variable `TF_ENABLE_ONEDNN_OPTS=0`.\n",
      "2022-12-05 14:29:00.801859: W tensorflow/stream_executor/platform/default/dso_loader.cc:64] Could not load dynamic library 'libcudart.so.11.0'; dlerror: libcudart.so.11.0: cannot open shared object file: No such file or directory\n",
      "2022-12-05 14:29:00.801904: I tensorflow/stream_executor/cuda/cudart_stub.cc:29] Ignore above cudart dlerror if you do not have a GPU set up on your machine.\n",
      "2022-12-05 14:29:00.849102: E tensorflow/stream_executor/cuda/cuda_blas.cc:2981] Unable to register cuBLAS factory: Attempting to register factory for plugin cuBLAS when one has already been registered\n",
      "2022-12-05 14:29:01.898660: W tensorflow/stream_executor/platform/default/dso_loader.cc:64] Could not load dynamic library 'libnvinfer.so.7'; dlerror: libnvinfer.so.7: cannot open shared object file: No such file or directory\n",
      "2022-12-05 14:29:01.898718: W tensorflow/stream_executor/platform/default/dso_loader.cc:64] Could not load dynamic library 'libnvinfer_plugin.so.7'; dlerror: libnvinfer_plugin.so.7: cannot open shared object file: No such file or directory\n",
      "2022-12-05 14:29:01.898723: W tensorflow/compiler/tf2tensorrt/utils/py_utils.cc:38] TF-TRT Warning: Cannot dlopen some TensorRT libraries. If you would like to use Nvidia GPU with TensorRT, please make sure the missing libraries mentioned above are installed properly.\n"
     ]
    }
   ],
   "source": [
    "#CNN\n",
    "from tensorflow.keras.layers import Flatten, Dense, Conv1D, MaxPool1D, Dropout,MaxPooling1D,LSTM\n",
    "from tensorflow.keras.models import Sequential\n",
    "from keras.utils import to_categorical"
   ]
  },
  {
   "cell_type": "code",
   "execution_count": 10,
   "id": "034451e6",
   "metadata": {},
   "outputs": [],
   "source": [
    "#Reshape train and test data to (n_samples, 187, 1), where each sample is of size (187, 1)\n",
    "X_train = np.array(X_train).reshape(X_train.shape[0], X_train.shape[1], 1)\n",
    "X_test = np.array(X_test).reshape(X_test.shape[0], X_test.shape[1], 1)"
   ]
  },
  {
   "cell_type": "code",
   "execution_count": 11,
   "id": "4d8acebd",
   "metadata": {},
   "outputs": [],
   "source": [
    "y_test_old = y_test.copy()"
   ]
  },
  {
   "cell_type": "code",
   "execution_count": 12,
   "id": "fe671565",
   "metadata": {},
   "outputs": [],
   "source": [
    "y_train = to_categorical(y_train)\n",
    "y_test = to_categorical(y_test)"
   ]
  },
  {
   "cell_type": "code",
   "execution_count": 13,
   "id": "6a7135c3",
   "metadata": {},
   "outputs": [
    {
     "data": {
      "text/plain": [
       "3"
      ]
     },
     "execution_count": 13,
     "metadata": {},
     "output_type": "execute_result"
    }
   ],
   "source": [
    "y_train.shape[1]"
   ]
  },
  {
   "cell_type": "markdown",
   "id": "6b22162f",
   "metadata": {},
   "source": [
    "## 1-D Convolution"
   ]
  },
  {
   "cell_type": "code",
   "execution_count": 14,
   "id": "525ba07f",
   "metadata": {},
   "outputs": [
    {
     "name": "stderr",
     "output_type": "stream",
     "text": [
      "2022-12-05 14:30:33.274666: W tensorflow/stream_executor/platform/default/dso_loader.cc:64] Could not load dynamic library 'libcuda.so.1'; dlerror: libcuda.so.1: cannot open shared object file: No such file or directory\n",
      "2022-12-05 14:30:33.274918: W tensorflow/stream_executor/cuda/cuda_driver.cc:263] failed call to cuInit: UNKNOWN ERROR (303)\n",
      "2022-12-05 14:30:33.274935: I tensorflow/stream_executor/cuda/cuda_diagnostics.cc:156] kernel driver does not appear to be running on this host (TEO-Tabeed): /proc/driver/nvidia/version does not exist\n",
      "2022-12-05 14:30:33.275544: I tensorflow/core/platform/cpu_feature_guard.cc:193] This TensorFlow binary is optimized with oneAPI Deep Neural Network Library (oneDNN) to use the following CPU instructions in performance-critical operations:  AVX2 AVX512F AVX512_VNNI FMA\n",
      "To enable them in other operations, rebuild TensorFlow with the appropriate compiler flags.\n"
     ]
    }
   ],
   "source": [
    "model = Sequential()\n",
    "model.add(Conv1D(filters=64, kernel_size=3, activation='relu', input_shape=(X_train.shape[1],1)))\n",
    "model.add(Dropout(0.5))\n",
    "model.add(MaxPooling1D(pool_size=2))\n",
    "model.add(Flatten())\n",
    "model.add(Dense(100, activation='relu'))\n",
    "model.add(Dense(y_train.shape[1], activation='softmax'))\n",
    "model.compile(loss='categorical_crossentropy', optimizer='adam', metrics=['accuracy'])"
   ]
  },
  {
   "cell_type": "code",
   "execution_count": 15,
   "id": "f123c6c5",
   "metadata": {},
   "outputs": [
    {
     "name": "stdout",
     "output_type": "stream",
     "text": [
      "Epoch 1/2\n",
      "101231/101231 [==============================] - 152s 2ms/step - loss: 0.0080 - accuracy: 0.9978\n",
      "Epoch 2/2\n",
      "101231/101231 [==============================] - 151s 1ms/step - loss: 0.0018 - accuracy: 0.9997\n"
     ]
    }
   ],
   "source": [
    "# fit network\n",
    "history_1d = model.fit(X_train, y_train, epochs=2)\n",
    "# evaluate model"
   ]
  },
  {
   "cell_type": "code",
   "execution_count": 16,
   "id": "e62ffaf3",
   "metadata": {},
   "outputs": [
    {
     "name": "stdout",
     "output_type": "stream",
     "text": [
      "33744/33744 [==============================] - 24s 711us/step - loss: 2.6839e-05 - accuracy: 1.0000\n"
     ]
    }
   ],
   "source": [
    "_, accuracy = model.evaluate(X_test, y_test)"
   ]
  },
  {
   "cell_type": "code",
   "execution_count": 17,
   "id": "bea2b601",
   "metadata": {},
   "outputs": [
    {
     "name": "stdout",
     "output_type": "stream",
     "text": [
      "33744/33744 [==============================] - 22s 649us/step\n",
      "              precision    recall  f1-score   support\n",
      "\n",
      "         0.0       1.00      1.00      1.00    335792\n",
      "         1.0       1.00      1.00      1.00    267846\n",
      "         2.0       1.00      1.00      1.00    476156\n",
      "\n",
      "    accuracy                           1.00   1079794\n",
      "   macro avg       1.00      1.00      1.00   1079794\n",
      "weighted avg       1.00      1.00      1.00   1079794\n",
      "\n"
     ]
    }
   ],
   "source": [
    "pred_result = model.predict(X_test)\n",
    "final_pred = [np.argmax(i) for i in pred_result]\n",
    "print(classification_report(y_test_old,final_pred))"
   ]
  },
  {
   "cell_type": "markdown",
   "id": "0f108b98",
   "metadata": {},
   "source": [
    "## LSTM models"
   ]
  },
  {
   "cell_type": "code",
   "execution_count": 18,
   "id": "360b3f47",
   "metadata": {},
   "outputs": [
    {
     "name": "stdout",
     "output_type": "stream",
     "text": [
      "Model: \"sequential_1\"\n",
      "_________________________________________________________________\n",
      " Layer (type)                Output Shape              Param #   \n",
      "=================================================================\n",
      " lstm (LSTM)                 (None, 100)               40800     \n",
      "                                                                 \n",
      " dropout_1 (Dropout)         (None, 100)               0         \n",
      "                                                                 \n",
      " dense_2 (Dense)             (None, 100)               10100     \n",
      "                                                                 \n",
      " dense_3 (Dense)             (None, 3)                 303       \n",
      "                                                                 \n",
      "=================================================================\n",
      "Total params: 51,203\n",
      "Trainable params: 51,203\n",
      "Non-trainable params: 0\n",
      "_________________________________________________________________\n"
     ]
    }
   ],
   "source": [
    "lstm_model = Sequential()\n",
    "lstm_model.add(LSTM(100, input_shape=(X_train.shape[1],1)))\n",
    "lstm_model.add(Dropout(0.5))\n",
    "lstm_model.add(Dense(100, activation=\"relu\"))\n",
    "lstm_model.add(Dense(y_train.shape[1], activation=\"softmax\"))\n",
    "lstm_model.compile(loss=\"categorical_crossentropy\", optimizer=\"adam\", metrics=[\"accuracy\"])\n",
    "lstm_model.summary()"
   ]
  },
  {
   "cell_type": "code",
   "execution_count": 19,
   "id": "a81df2de",
   "metadata": {},
   "outputs": [
    {
     "name": "stdout",
     "output_type": "stream",
     "text": [
      "101231/101231 [==============================] - 532s 5ms/step - loss: 0.0021 - accuracy: 0.9992\n"
     ]
    }
   ],
   "source": [
    "# fit network\n",
    "history_lstm = lstm_model.fit(X_train, y_train, epochs=1)\n",
    "# evaluate model"
   ]
  },
  {
   "cell_type": "code",
   "execution_count": 20,
   "id": "d9981296",
   "metadata": {},
   "outputs": [
    {
     "name": "stdout",
     "output_type": "stream",
     "text": [
      "33744/33744 [==============================] - 75s 2ms/step - loss: 1.1063e-05 - accuracy: 1.0000\n"
     ]
    }
   ],
   "source": [
    "_, accuracy = lstm_model.evaluate(X_test, y_test)"
   ]
  },
  {
   "cell_type": "code",
   "execution_count": 21,
   "id": "6138ac71",
   "metadata": {},
   "outputs": [
    {
     "name": "stdout",
     "output_type": "stream",
     "text": [
      "33744/33744 [==============================] - 72s 2ms/step\n"
     ]
    }
   ],
   "source": [
    "lstm_pred_result = lstm_model.predict(X_test)"
   ]
  },
  {
   "cell_type": "code",
   "execution_count": 22,
   "id": "9502808c",
   "metadata": {},
   "outputs": [],
   "source": [
    "final_pred_lstm = [np.argmax(i) for i in lstm_pred_result]"
   ]
  },
  {
   "cell_type": "code",
   "execution_count": 23,
   "id": "9d03eed6",
   "metadata": {},
   "outputs": [
    {
     "name": "stdout",
     "output_type": "stream",
     "text": [
      "              precision    recall  f1-score   support\n",
      "\n",
      "         0.0       1.00      1.00      1.00    335792\n",
      "         1.0       1.00      1.00      1.00    267846\n",
      "         2.0       1.00      1.00      1.00    476156\n",
      "\n",
      "    accuracy                           1.00   1079794\n",
      "   macro avg       1.00      1.00      1.00   1079794\n",
      "weighted avg       1.00      1.00      1.00   1079794\n",
      "\n"
     ]
    }
   ],
   "source": [
    "print(classification_report(y_test_old,final_pred_lstm))"
   ]
  }
 ],
 "metadata": {
  "kernelspec": {
   "display_name": "Python 3.8.10 64-bit",
   "language": "python",
   "name": "python3"
  },
  "language_info": {
   "codemirror_mode": {
    "name": "ipython",
    "version": 3
   },
   "file_extension": ".py",
   "mimetype": "text/x-python",
   "name": "python",
   "nbconvert_exporter": "python",
   "pygments_lexer": "ipython3",
   "version": "3.8.10"
  },
  "vscode": {
   "interpreter": {
    "hash": "916dbcbb3f70747c44a77c7bcd40155683ae19c65e1c03b4aa3499c5328201f1"
   }
  }
 },
 "nbformat": 4,
 "nbformat_minor": 5
}
