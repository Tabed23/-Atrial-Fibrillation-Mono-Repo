{
 "cells": [
  {
   "cell_type": "code",
   "execution_count": 1,
   "id": "1ce6180c",
   "metadata": {},
   "outputs": [],
   "source": [
    "import pandas as pd\n",
    "import numpy as np\n",
    "import pickle\n",
    "import scipy\n",
    "from sklearn.preprocessing import MinMaxScaler, StandardScaler\n",
    "from sklearn.neighbors import KNeighborsClassifier, KNeighborsRegressor\n",
    "from sklearn.ensemble import RandomForestClassifier, RandomForestRegressor\n",
    "from sklearn.linear_model import LogisticRegression, LinearRegression, LogisticRegressionCV, SGDClassifier, RidgeClassifier\n",
    "from sklearn.metrics import accuracy_score, r2_score, mean_squared_error, mean_absolute_error, f1_score\n",
    "from sklearn.model_selection import train_test_split, cross_validate, GridSearchCV, RandomizedSearchCV\n",
    "from sklearn.feature_selection import SelectKBest, f_regression\n",
    "from sklearn import svm, linear_model\n",
    "from sklearn import tree, metrics\n",
    "from sklearn.metrics import classification_report\n",
    "import warnings\n",
    "warnings.filterwarnings('ignore')\n",
    "from sklearn.preprocessing import LabelEncoder\n",
    "import gzip"
   ]
  },
  {
   "cell_type": "code",
   "execution_count": 2,
   "id": "3dc61425",
   "metadata": {},
   "outputs": [
    {
     "data": {
      "text/html": [
       "<div>\n",
       "<style scoped>\n",
       "    .dataframe tbody tr th:only-of-type {\n",
       "        vertical-align: middle;\n",
       "    }\n",
       "\n",
       "    .dataframe tbody tr th {\n",
       "        vertical-align: top;\n",
       "    }\n",
       "\n",
       "    .dataframe thead th {\n",
       "        text-align: right;\n",
       "    }\n",
       "</style>\n",
       "<table border=\"1\" class=\"dataframe\">\n",
       "  <thead>\n",
       "    <tr style=\"text-align: right;\">\n",
       "      <th></th>\n",
       "      <th>I</th>\n",
       "      <th>II</th>\n",
       "      <th>III</th>\n",
       "      <th>aVF</th>\n",
       "      <th>aVR</th>\n",
       "      <th>aVL</th>\n",
       "      <th>V1</th>\n",
       "      <th>V2</th>\n",
       "      <th>V3</th>\n",
       "      <th>V4</th>\n",
       "      <th>...</th>\n",
       "      <th>weight</th>\n",
       "      <th>nurse</th>\n",
       "      <th>site</th>\n",
       "      <th>device</th>\n",
       "      <th>heart_axis</th>\n",
       "      <th>validated_by</th>\n",
       "      <th>second_opinion</th>\n",
       "      <th>validated_by_human</th>\n",
       "      <th>pacemaker</th>\n",
       "      <th>strat_fold</th>\n",
       "    </tr>\n",
       "  </thead>\n",
       "  <tbody>\n",
       "    <tr>\n",
       "      <th>0</th>\n",
       "      <td>-0.005</td>\n",
       "      <td>0.135</td>\n",
       "      <td>0.140</td>\n",
       "      <td>-0.065</td>\n",
       "      <td>-0.073</td>\n",
       "      <td>0.137</td>\n",
       "      <td>-0.125</td>\n",
       "      <td>-0.090</td>\n",
       "      <td>-0.110</td>\n",
       "      <td>-0.210</td>\n",
       "      <td>...</td>\n",
       "      <td>69.841845</td>\n",
       "      <td>0.0</td>\n",
       "      <td>0.0</td>\n",
       "      <td>0</td>\n",
       "      <td>3.0</td>\n",
       "      <td>0.0</td>\n",
       "      <td>0</td>\n",
       "      <td>0</td>\n",
       "      <td>0.0</td>\n",
       "      <td>6</td>\n",
       "    </tr>\n",
       "    <tr>\n",
       "      <th>1</th>\n",
       "      <td>-0.005</td>\n",
       "      <td>0.135</td>\n",
       "      <td>0.140</td>\n",
       "      <td>-0.065</td>\n",
       "      <td>-0.073</td>\n",
       "      <td>0.137</td>\n",
       "      <td>-0.125</td>\n",
       "      <td>-0.090</td>\n",
       "      <td>-0.110</td>\n",
       "      <td>-0.211</td>\n",
       "      <td>...</td>\n",
       "      <td>69.841845</td>\n",
       "      <td>0.0</td>\n",
       "      <td>0.0</td>\n",
       "      <td>0</td>\n",
       "      <td>3.0</td>\n",
       "      <td>0.0</td>\n",
       "      <td>0</td>\n",
       "      <td>0</td>\n",
       "      <td>0.0</td>\n",
       "      <td>6</td>\n",
       "    </tr>\n",
       "    <tr>\n",
       "      <th>2</th>\n",
       "      <td>-0.005</td>\n",
       "      <td>0.131</td>\n",
       "      <td>0.136</td>\n",
       "      <td>-0.063</td>\n",
       "      <td>-0.070</td>\n",
       "      <td>0.133</td>\n",
       "      <td>-0.125</td>\n",
       "      <td>-0.082</td>\n",
       "      <td>-0.102</td>\n",
       "      <td>-0.190</td>\n",
       "      <td>...</td>\n",
       "      <td>69.841845</td>\n",
       "      <td>0.0</td>\n",
       "      <td>0.0</td>\n",
       "      <td>0</td>\n",
       "      <td>3.0</td>\n",
       "      <td>0.0</td>\n",
       "      <td>0</td>\n",
       "      <td>0</td>\n",
       "      <td>0.0</td>\n",
       "      <td>6</td>\n",
       "    </tr>\n",
       "    <tr>\n",
       "      <th>3</th>\n",
       "      <td>-0.005</td>\n",
       "      <td>0.130</td>\n",
       "      <td>0.135</td>\n",
       "      <td>-0.063</td>\n",
       "      <td>-0.070</td>\n",
       "      <td>0.132</td>\n",
       "      <td>-0.122</td>\n",
       "      <td>-0.077</td>\n",
       "      <td>-0.094</td>\n",
       "      <td>-0.172</td>\n",
       "      <td>...</td>\n",
       "      <td>69.841845</td>\n",
       "      <td>0.0</td>\n",
       "      <td>0.0</td>\n",
       "      <td>0</td>\n",
       "      <td>3.0</td>\n",
       "      <td>0.0</td>\n",
       "      <td>0</td>\n",
       "      <td>0</td>\n",
       "      <td>0.0</td>\n",
       "      <td>6</td>\n",
       "    </tr>\n",
       "    <tr>\n",
       "      <th>4</th>\n",
       "      <td>-0.005</td>\n",
       "      <td>0.128</td>\n",
       "      <td>0.133</td>\n",
       "      <td>-0.062</td>\n",
       "      <td>-0.069</td>\n",
       "      <td>0.130</td>\n",
       "      <td>-0.119</td>\n",
       "      <td>-0.071</td>\n",
       "      <td>-0.084</td>\n",
       "      <td>-0.157</td>\n",
       "      <td>...</td>\n",
       "      <td>69.841845</td>\n",
       "      <td>0.0</td>\n",
       "      <td>0.0</td>\n",
       "      <td>0</td>\n",
       "      <td>3.0</td>\n",
       "      <td>0.0</td>\n",
       "      <td>0</td>\n",
       "      <td>0</td>\n",
       "      <td>0.0</td>\n",
       "      <td>6</td>\n",
       "    </tr>\n",
       "    <tr>\n",
       "      <th>...</th>\n",
       "      <td>...</td>\n",
       "      <td>...</td>\n",
       "      <td>...</td>\n",
       "      <td>...</td>\n",
       "      <td>...</td>\n",
       "      <td>...</td>\n",
       "      <td>...</td>\n",
       "      <td>...</td>\n",
       "      <td>...</td>\n",
       "      <td>...</td>\n",
       "      <td>...</td>\n",
       "      <td>...</td>\n",
       "      <td>...</td>\n",
       "      <td>...</td>\n",
       "      <td>...</td>\n",
       "      <td>...</td>\n",
       "      <td>...</td>\n",
       "      <td>...</td>\n",
       "      <td>...</td>\n",
       "      <td>...</td>\n",
       "      <td>...</td>\n",
       "    </tr>\n",
       "    <tr>\n",
       "      <th>4319171</th>\n",
       "      <td>0.010</td>\n",
       "      <td>0.170</td>\n",
       "      <td>0.160</td>\n",
       "      <td>-0.090</td>\n",
       "      <td>-0.075</td>\n",
       "      <td>0.165</td>\n",
       "      <td>0.155</td>\n",
       "      <td>0.365</td>\n",
       "      <td>0.230</td>\n",
       "      <td>0.030</td>\n",
       "      <td>...</td>\n",
       "      <td>69.841845</td>\n",
       "      <td>1.0</td>\n",
       "      <td>2.0</td>\n",
       "      <td>1</td>\n",
       "      <td>3.0</td>\n",
       "      <td>1.0</td>\n",
       "      <td>0</td>\n",
       "      <td>1</td>\n",
       "      <td>0.0</td>\n",
       "      <td>8</td>\n",
       "    </tr>\n",
       "    <tr>\n",
       "      <th>4319172</th>\n",
       "      <td>0.014</td>\n",
       "      <td>0.174</td>\n",
       "      <td>0.160</td>\n",
       "      <td>-0.094</td>\n",
       "      <td>-0.073</td>\n",
       "      <td>0.167</td>\n",
       "      <td>0.155</td>\n",
       "      <td>0.368</td>\n",
       "      <td>0.245</td>\n",
       "      <td>0.029</td>\n",
       "      <td>...</td>\n",
       "      <td>69.841845</td>\n",
       "      <td>1.0</td>\n",
       "      <td>2.0</td>\n",
       "      <td>1</td>\n",
       "      <td>3.0</td>\n",
       "      <td>1.0</td>\n",
       "      <td>0</td>\n",
       "      <td>1</td>\n",
       "      <td>0.0</td>\n",
       "      <td>8</td>\n",
       "    </tr>\n",
       "    <tr>\n",
       "      <th>4319173</th>\n",
       "      <td>0.016</td>\n",
       "      <td>0.176</td>\n",
       "      <td>0.160</td>\n",
       "      <td>-0.096</td>\n",
       "      <td>-0.073</td>\n",
       "      <td>0.167</td>\n",
       "      <td>0.155</td>\n",
       "      <td>0.383</td>\n",
       "      <td>0.261</td>\n",
       "      <td>0.040</td>\n",
       "      <td>...</td>\n",
       "      <td>69.841845</td>\n",
       "      <td>1.0</td>\n",
       "      <td>2.0</td>\n",
       "      <td>1</td>\n",
       "      <td>3.0</td>\n",
       "      <td>1.0</td>\n",
       "      <td>0</td>\n",
       "      <td>1</td>\n",
       "      <td>0.0</td>\n",
       "      <td>8</td>\n",
       "    </tr>\n",
       "    <tr>\n",
       "      <th>4319174</th>\n",
       "      <td>0.014</td>\n",
       "      <td>0.174</td>\n",
       "      <td>0.160</td>\n",
       "      <td>-0.094</td>\n",
       "      <td>-0.073</td>\n",
       "      <td>0.167</td>\n",
       "      <td>0.155</td>\n",
       "      <td>0.406</td>\n",
       "      <td>0.282</td>\n",
       "      <td>0.059</td>\n",
       "      <td>...</td>\n",
       "      <td>69.841845</td>\n",
       "      <td>1.0</td>\n",
       "      <td>2.0</td>\n",
       "      <td>1</td>\n",
       "      <td>3.0</td>\n",
       "      <td>1.0</td>\n",
       "      <td>0</td>\n",
       "      <td>1</td>\n",
       "      <td>0.0</td>\n",
       "      <td>8</td>\n",
       "    </tr>\n",
       "    <tr>\n",
       "      <th>4319175</th>\n",
       "      <td>0.016</td>\n",
       "      <td>0.176</td>\n",
       "      <td>0.160</td>\n",
       "      <td>-0.096</td>\n",
       "      <td>-0.072</td>\n",
       "      <td>0.168</td>\n",
       "      <td>0.156</td>\n",
       "      <td>0.424</td>\n",
       "      <td>0.304</td>\n",
       "      <td>0.072</td>\n",
       "      <td>...</td>\n",
       "      <td>69.841845</td>\n",
       "      <td>1.0</td>\n",
       "      <td>2.0</td>\n",
       "      <td>1</td>\n",
       "      <td>3.0</td>\n",
       "      <td>1.0</td>\n",
       "      <td>0</td>\n",
       "      <td>1</td>\n",
       "      <td>0.0</td>\n",
       "      <td>8</td>\n",
       "    </tr>\n",
       "  </tbody>\n",
       "</table>\n",
       "<p>4319176 rows × 26 columns</p>\n",
       "</div>"
      ],
      "text/plain": [
       "             I     II    III    aVF    aVR    aVL     V1     V2     V3     V4  \\\n",
       "0       -0.005  0.135  0.140 -0.065 -0.073  0.137 -0.125 -0.090 -0.110 -0.210   \n",
       "1       -0.005  0.135  0.140 -0.065 -0.073  0.137 -0.125 -0.090 -0.110 -0.211   \n",
       "2       -0.005  0.131  0.136 -0.063 -0.070  0.133 -0.125 -0.082 -0.102 -0.190   \n",
       "3       -0.005  0.130  0.135 -0.063 -0.070  0.132 -0.122 -0.077 -0.094 -0.172   \n",
       "4       -0.005  0.128  0.133 -0.062 -0.069  0.130 -0.119 -0.071 -0.084 -0.157   \n",
       "...        ...    ...    ...    ...    ...    ...    ...    ...    ...    ...   \n",
       "4319171  0.010  0.170  0.160 -0.090 -0.075  0.165  0.155  0.365  0.230  0.030   \n",
       "4319172  0.014  0.174  0.160 -0.094 -0.073  0.167  0.155  0.368  0.245  0.029   \n",
       "4319173  0.016  0.176  0.160 -0.096 -0.073  0.167  0.155  0.383  0.261  0.040   \n",
       "4319174  0.014  0.174  0.160 -0.094 -0.073  0.167  0.155  0.406  0.282  0.059   \n",
       "4319175  0.016  0.176  0.160 -0.096 -0.072  0.168  0.156  0.424  0.304  0.072   \n",
       "\n",
       "         ...     weight  nurse  site  device  heart_axis  validated_by  \\\n",
       "0        ...  69.841845    0.0   0.0       0         3.0           0.0   \n",
       "1        ...  69.841845    0.0   0.0       0         3.0           0.0   \n",
       "2        ...  69.841845    0.0   0.0       0         3.0           0.0   \n",
       "3        ...  69.841845    0.0   0.0       0         3.0           0.0   \n",
       "4        ...  69.841845    0.0   0.0       0         3.0           0.0   \n",
       "...      ...        ...    ...   ...     ...         ...           ...   \n",
       "4319171  ...  69.841845    1.0   2.0       1         3.0           1.0   \n",
       "4319172  ...  69.841845    1.0   2.0       1         3.0           1.0   \n",
       "4319173  ...  69.841845    1.0   2.0       1         3.0           1.0   \n",
       "4319174  ...  69.841845    1.0   2.0       1         3.0           1.0   \n",
       "4319175  ...  69.841845    1.0   2.0       1         3.0           1.0   \n",
       "\n",
       "         second_opinion  validated_by_human  pacemaker  strat_fold  \n",
       "0                     0                   0        0.0           6  \n",
       "1                     0                   0        0.0           6  \n",
       "2                     0                   0        0.0           6  \n",
       "3                     0                   0        0.0           6  \n",
       "4                     0                   0        0.0           6  \n",
       "...                 ...                 ...        ...         ...  \n",
       "4319171               0                   1        0.0           8  \n",
       "4319172               0                   1        0.0           8  \n",
       "4319173               0                   1        0.0           8  \n",
       "4319174               0                   1        0.0           8  \n",
       "4319175               0                   1        0.0           8  \n",
       "\n",
       "[4319176 rows x 26 columns]"
      ]
     },
     "execution_count": 2,
     "metadata": {},
     "output_type": "execute_result"
    }
   ],
   "source": [
    "# read in csv\n",
    "df = pd.read_csv('training_25_features.csv')\n",
    "df"
   ]
  },
  {
   "cell_type": "code",
   "execution_count": 3,
   "id": "520f58bb",
   "metadata": {},
   "outputs": [
    {
     "name": "stdout",
     "output_type": "stream",
     "text": [
      "<class 'pandas.core.frame.DataFrame'>\n",
      "RangeIndex: 4319176 entries, 0 to 4319175\n",
      "Data columns (total 26 columns):\n",
      " #   Column              Dtype  \n",
      "---  ------              -----  \n",
      " 0   I                   float64\n",
      " 1   II                  float64\n",
      " 2   III                 float64\n",
      " 3   aVF                 float64\n",
      " 4   aVR                 float64\n",
      " 5   aVL                 float64\n",
      " 6   V1                  float64\n",
      " 7   V2                  float64\n",
      " 8   V3                  float64\n",
      " 9   V4                  float64\n",
      " 10  V5                  float64\n",
      " 11  V6                  float64\n",
      " 12  ritmi               float64\n",
      " 13  age                 float64\n",
      " 14  sex                 float64\n",
      " 15  height              float64\n",
      " 16  weight              float64\n",
      " 17  nurse               float64\n",
      " 18  site                float64\n",
      " 19  device              float64\n",
      " 20  heart_axis          float64\n",
      " 21  validated_by        float64\n",
      " 22  second_opinion      float64\n",
      " 23  validated_by_human  float64\n",
      " 24  pacemaker           float64\n",
      " 25  strat_fold          float64\n",
      "dtypes: float64(26)\n",
      "memory usage: 856.8 MB\n"
     ]
    }
   ],
   "source": [
    "# convert all the columns to float64\n",
    "for i in range(26):\n",
    "    df[df.columns[i]] = df[df.columns[i]].astype('float64')\n",
    "    \n",
    "# get info for columns\n",
    "df.info()"
   ]
  },
  {
   "cell_type": "code",
   "execution_count": 4,
   "id": "bf89fa52",
   "metadata": {},
   "outputs": [],
   "source": [
    "# train-test split\n",
    "X = df[['I','II','III','aVF','aVR','aVL','V1','V2','V3','V4','V5','V6','age','sex','height','weight']]\n",
    "X.to_csv('training_17_features.csv')\n",
    "y = df['ritmi']\n",
    "X_train, X_test, y_train, y_test=train_test_split(X, y, test_size = 0.25, random_state = 1234)"
   ]
  },
  {
   "cell_type": "markdown",
   "id": "bd290a43",
   "metadata": {},
   "source": [
    "# Random Forest"
   ]
  },
  {
   "cell_type": "code",
   "execution_count": 5,
   "id": "1cffa1dd",
   "metadata": {},
   "outputs": [
    {
     "name": "stdout",
     "output_type": "stream",
     "text": [
      "Best Score:0.9640002321293967\n",
      "Best Parameters: {'criterion': 'entropy', 'max_depth': 45, 'n_estimators': 45}\n"
     ]
    }
   ],
   "source": [
    "# Plug in appropriate max_depth and random_state parameters\n",
    "rf = RandomForestClassifier()\n",
    "# rf_param_grid = {'n_estimators': [20], 'criterion': ['entropy'], 'max_depth': [20]} #0.9267653536506913\n",
    "rf_param_grid = {'n_estimators': [45], 'criterion': ['entropy'], 'max_depth': [45]} #0.9868391563552115\n",
    "rf_cv= GridSearchCV(rf,rf_param_grid,cv=7,n_jobs=-1)\n",
    "rf_cv.fit(X_train,y_train)\n",
    "\n",
    "print(\"Best Score:\" + str(rf_cv.best_score_))\n",
    "print(\"Best Parameters: \" + str(rf_cv.best_params_))"
   ]
  },
  {
   "cell_type": "code",
   "execution_count": 6,
   "id": "e55a40be",
   "metadata": {},
   "outputs": [
    {
     "name": "stdout",
     "output_type": "stream",
     "text": [
      "              precision    recall  f1-score   support\n",
      "\n",
      "         0.0       1.00      1.00      1.00   1009610\n",
      "         1.0       0.99      0.99      0.99    800602\n",
      "         2.0       1.00      1.00      1.00   1429170\n",
      "\n",
      "    accuracy                           1.00   3239382\n",
      "   macro avg       1.00      1.00      1.00   3239382\n",
      "weighted avg       1.00      1.00      1.00   3239382\n",
      "\n"
     ]
    }
   ],
   "source": [
    "y_train_pred = rf_cv.predict(X_train)\n",
    "print(classification_report(y_train, y_train_pred))"
   ]
  },
  {
   "cell_type": "code",
   "execution_count": 7,
   "id": "fd35c703",
   "metadata": {},
   "outputs": [
    {
     "name": "stdout",
     "output_type": "stream",
     "text": [
      "              precision    recall  f1-score   support\n",
      "\n",
      "         0.0       0.98      0.96      0.97    335792\n",
      "         1.0       0.96      0.96      0.96    267846\n",
      "         2.0       0.96      0.97      0.97    476156\n",
      "\n",
      "    accuracy                           0.97   1079794\n",
      "   macro avg       0.97      0.97      0.97   1079794\n",
      "weighted avg       0.97      0.97      0.97   1079794\n",
      "\n"
     ]
    }
   ],
   "source": [
    "y_test_pred = rf_cv.predict(X_test)\n",
    "print(classification_report(y_test, y_test_pred))"
   ]
  },
  {
   "cell_type": "code",
   "execution_count": 8,
   "id": "7e8b12b3",
   "metadata": {},
   "outputs": [
    {
     "data": {
      "image/png": "[encoded data removed]",
      "text/plain": [
       "<Figure size 640x480 with 2 Axes>"
      ]
     },
     "metadata": {},
     "output_type": "display_data"
    }
   ],
   "source": [
    "\n",
    "# confusion matrix seaborn heatmap\n",
    "import seaborn as sns\n",
    "import matplotlib.pyplot as plt\n",
    "from sklearn.metrics import confusion_matrix\n",
    "cm = confusion_matrix(y_test, y_test_pred)\n",
    "sns.heatmap(cm, annot=True, fmt='d')\n",
    "plt.show()"
   ]
  },
  {
   "cell_type": "code",
   "execution_count": 9,
   "id": "153d98ed",
   "metadata": {},
   "outputs": [],
   "source": [
    "# import pickle\n",
    "# with open('25_feature_random_model.pkl','wb') as file:\n",
    "#     pickle.dump(rf_cv,file)"
   ]
  },
  {
   "cell_type": "markdown",
   "id": "c18cd98d",
   "metadata": {},
   "source": [
    "## Deep learning models"
   ]
  },
  {
   "cell_type": "code",
   "execution_count": 10,
   "id": "ac8de5d4",
   "metadata": {},
   "outputs": [],
   "source": [
    "#CNN\n",
    "from tensorflow.keras.layers import Flatten, Dense, Conv1D, MaxPool1D, Dropout,MaxPooling1D,LSTM\n",
    "from tensorflow.keras.models import Sequential\n",
    "from keras.utils import to_categorical"
   ]
  },
  {
   "cell_type": "code",
   "execution_count": 11,
   "id": "c68df84a",
   "metadata": {},
   "outputs": [],
   "source": [
    "#Reshape train and test data to (n_samples, 187, 1), where each sample is of size (187, 1)\n",
    "X_train = np.array(X_train).reshape(X_train.shape[0], X_train.shape[1], 1)\n",
    "X_test = np.array(X_test).reshape(X_test.shape[0], X_test.shape[1], 1)"
   ]
  },
  {
   "cell_type": "code",
   "execution_count": 12,
   "id": "309d8496",
   "metadata": {},
   "outputs": [],
   "source": [
    "y_test_old = y_test.copy()"
   ]
  },
  {
   "cell_type": "code",
   "execution_count": 13,
   "id": "a37291a5",
   "metadata": {},
   "outputs": [],
   "source": [
    "y_train = to_categorical(y_train)\n",
    "y_test = to_categorical(y_test)"
   ]
  },
  {
   "cell_type": "code",
   "execution_count": 14,
   "id": "b290fc80",
   "metadata": {},
   "outputs": [
    {
     "data": {
      "text/plain": [
       "3"
      ]
     },
     "execution_count": 14,
     "metadata": {},
     "output_type": "execute_result"
    }
   ],
   "source": [
    "y_train.shape[1]"
   ]
  },
  {
   "cell_type": "markdown",
   "id": "faf85215",
   "metadata": {},
   "source": [
    "## 1-D Convolution"
   ]
  },
  {
   "cell_type": "code",
   "execution_count": 15,
   "id": "ec3d3f3a",
   "metadata": {},
   "outputs": [],
   "source": [
    "model = Sequential()\n",
    "model.add(Conv1D(filters=64, kernel_size=3, activation='relu', input_shape=(X_train.shape[1],1)))\n",
    "model.add(Dropout(0.5))\n",
    "model.add(MaxPooling1D(pool_size=2))\n",
    "model.add(Flatten())\n",
    "model.add(Dense(100, activation='relu'))\n",
    "model.add(Dense(y_train.shape[1], activation='softmax'))\n",
    "model.compile(loss='categorical_crossentropy', optimizer='adam', metrics=['accuracy'])"
   ]
  },
  {
   "cell_type": "code",
   "execution_count": 16,
   "id": "cb931b24",
   "metadata": {},
   "outputs": [
    {
     "name": "stdout",
     "output_type": "stream",
     "text": [
      "Epoch 1/2\n"
     ]
    },
    {
     "name": "stderr",
     "output_type": "stream",
     "text": [
      "2022-12-06 20:42:58.913053: W tensorflow/core/platform/profile_utils/cpu_utils.cc:128] Failed to get CPU frequency: 0 Hz\n"
     ]
    },
    {
     "name": "stdout",
     "output_type": "stream",
     "text": [
      "101231/101231 [==============================] - 73s 717us/step - loss: 1.0019 - accuracy: 0.4647\n",
      "Epoch 2/2\n",
      "101231/101231 [==============================] - 80s 795us/step - loss: 0.9843 - accuracy: 0.4783\n"
     ]
    }
   ],
   "source": [
    "# fit network\n",
    "history_1d = model.fit(X_train, y_train, epochs=2)\n",
    "# evaluate model"
   ]
  },
  {
   "cell_type": "code",
   "execution_count": 17,
   "id": "04e7dd26",
   "metadata": {},
   "outputs": [
    {
     "name": "stdout",
     "output_type": "stream",
     "text": [
      "33744/33744 [==============================] - 12s 338us/step - loss: 0.9935 - accuracy: 0.4702\n"
     ]
    }
   ],
   "source": [
    "_, accuracy = model.evaluate(X_test, y_test)"
   ]
  },
  {
   "cell_type": "code",
   "execution_count": 18,
   "id": "d26efee4",
   "metadata": {},
   "outputs": [
    {
     "name": "stdout",
     "output_type": "stream",
     "text": [
      "33744/33744 [==============================] - 10s 296us/step\n",
      "              precision    recall  f1-score   support\n",
      "\n",
      "         0.0       0.48      0.33      0.39    335792\n",
      "         1.0       0.67      0.07      0.13    267846\n",
      "         2.0       0.46      0.79      0.58    476156\n",
      "\n",
      "    accuracy                           0.47   1079794\n",
      "   macro avg       0.53      0.40      0.37   1079794\n",
      "weighted avg       0.52      0.47      0.41   1079794\n",
      "\n"
     ]
    }
   ],
   "source": [
    "pred_result = model.predict(X_test)\n",
    "final_pred = [np.argmax(i) for i in pred_result]\n",
    "print(classification_report(y_test_old,final_pred))"
   ]
  },
  {
   "cell_type": "code",
   "execution_count": 19,
   "id": "4dd3fa04",
   "metadata": {},
   "outputs": [
    {
     "data": {
      "image/png": "[encoded data removed]",
      "text/plain": [
       "<Figure size 640x480 with 2 Axes>"
      ]
     },
     "metadata": {},
     "output_type": "display_data"
    }
   ],
   "source": [
    "\n",
    "# confusion matrix seaborn heatmap\n",
    "import seaborn as sns\n",
    "import matplotlib.pyplot as plt\n",
    "from sklearn.metrics import confusion_matrix\n",
    "cm = confusion_matrix(y_test_old,final_pred)\n",
    "sns.heatmap(cm, annot=True, fmt='d')\n",
    "plt.show()"
   ]
  },
  {
   "cell_type": "code",
   "execution_count": 20,
   "id": "592c62ed",
   "metadata": {},
   "outputs": [],
   "source": [
    "# model.save('1_d_model_25_feat')"
   ]
  },
  {
   "cell_type": "markdown",
   "id": "a3c7b1ef",
   "metadata": {},
   "source": [
    "## LSTM models"
   ]
  },
  {
   "cell_type": "code",
   "execution_count": 21,
   "id": "12e75f67",
   "metadata": {},
   "outputs": [
    {
     "name": "stdout",
     "output_type": "stream",
     "text": [
      "Model: \"sequential_1\"\n",
      "_________________________________________________________________\n",
      " Layer (type)                Output Shape              Param #   \n",
      "=================================================================\n",
      " lstm (LSTM)                 (None, 100)               40800     \n",
      "                                                                 \n",
      " dropout_1 (Dropout)         (None, 100)               0         \n",
      "                                                                 \n",
      " dense_2 (Dense)             (None, 100)               10100     \n",
      "                                                                 \n",
      " dense_3 (Dense)             (None, 3)                 303       \n",
      "                                                                 \n",
      "=================================================================\n",
      "Total params: 51,203\n",
      "Trainable params: 51,203\n",
      "Non-trainable params: 0\n",
      "_________________________________________________________________\n"
     ]
    }
   ],
   "source": [
    "lstm_model = Sequential()\n",
    "lstm_model.add(LSTM(100, input_shape=(X_train.shape[1],1)))\n",
    "lstm_model.add(Dropout(0.5))\n",
    "lstm_model.add(Dense(100, activation=\"relu\"))\n",
    "lstm_model.add(Dense(y_train.shape[1], activation=\"softmax\"))\n",
    "lstm_model.compile(loss=\"categorical_crossentropy\", optimizer=\"adam\", metrics=[\"accuracy\"])\n",
    "lstm_model.summary()"
   ]
  },
  {
   "cell_type": "code",
   "execution_count": 22,
   "id": "f334c9e3",
   "metadata": {},
   "outputs": [
    {
     "name": "stdout",
     "output_type": "stream",
     "text": [
      "101231/101231 [==============================] - 436s 4ms/step - loss: 0.9351 - accuracy: 0.5143\n"
     ]
    }
   ],
   "source": [
    "# fit network\n",
    "history_lstm = lstm_model.fit(X_train, y_train, epochs=1)\n",
    "# evaluate model"
   ]
  },
  {
   "cell_type": "code",
   "execution_count": 23,
   "id": "733c9b34",
   "metadata": {},
   "outputs": [
    {
     "name": "stdout",
     "output_type": "stream",
     "text": [
      "33744/33744 [==============================] - 48s 1ms/step - loss: 0.8641 - accuracy: 0.5692\n"
     ]
    }
   ],
   "source": [
    "_, accuracy = lstm_model.evaluate(X_test, y_test)"
   ]
  },
  {
   "cell_type": "code",
   "execution_count": 24,
   "id": "8effe94b",
   "metadata": {},
   "outputs": [
    {
     "name": "stdout",
     "output_type": "stream",
     "text": [
      "33744/33744 [==============================] - 46s 1ms/step\n"
     ]
    }
   ],
   "source": [
    "lstm_pred_result = lstm_model.predict(X_test)"
   ]
  },
  {
   "cell_type": "code",
   "execution_count": 25,
   "id": "cd6ab98d",
   "metadata": {},
   "outputs": [],
   "source": [
    "final_pred_lstm = [np.argmax(i) for i in lstm_pred_result]"
   ]
  },
  {
   "cell_type": "code",
   "execution_count": 26,
   "id": "64763d1d",
   "metadata": {},
   "outputs": [
    {
     "name": "stdout",
     "output_type": "stream",
     "text": [
      "              precision    recall  f1-score   support\n",
      "\n",
      "         0.0       0.64      0.35      0.46    335792\n",
      "         1.0       0.56      0.52      0.54    267846\n",
      "         2.0       0.55      0.75      0.64    476156\n",
      "\n",
      "    accuracy                           0.57   1079794\n",
      "   macro avg       0.58      0.54      0.54   1079794\n",
      "weighted avg       0.58      0.57      0.56   1079794\n",
      "\n"
     ]
    }
   ],
   "source": [
    "print(classification_report(y_test_old,final_pred_lstm))"
   ]
  },
  {
   "cell_type": "code",
   "execution_count": 27,
   "id": "f9ccd1ea",
   "metadata": {},
   "outputs": [
    {
     "data": {
      "image/png": "[encoded data removed]",
      "text/plain": [
       "<Figure size 640x480 with 2 Axes>"
      ]
     },
     "metadata": {},
     "output_type": "display_data"
    }
   ],
   "source": [
    "\n",
    "# confusion matrix seaborn heatmap\n",
    "import seaborn as sns\n",
    "import matplotlib.pyplot as plt\n",
    "from sklearn.metrics import confusion_matrix\n",
    "cm = confusion_matrix(y_test_old,final_pred_lstm)\n",
    "sns.heatmap(cm, annot=True, fmt='d')\n",
    "plt.show()"
   ]
  },
  {
   "cell_type": "code",
   "execution_count": 28,
   "id": "74889a1b",
   "metadata": {},
   "outputs": [],
   "source": [
    "# model.save('lstm_model_25_feat')"
   ]
  },
  {
   "cell_type": "code",
   "execution_count": null,
   "id": "5f1e7c12",
   "metadata": {},
   "outputs": [],
   "source": []
  }
 ],
 "metadata": {
  "kernelspec": {
   "display_name": "Python 3.8.10 64-bit",
   "language": "python",
   "name": "python3"
  },
  "language_info": {
   "codemirror_mode": {
    "name": "ipython",
    "version": 3
   },
   "file_extension": ".py",
   "mimetype": "text/x-python",
   "name": "python",
   "nbconvert_exporter": "python",
   "pygments_lexer": "ipython3",
   "version": "3.8.10"
  },
  "vscode": {
   "interpreter": {
    "hash": "916dbcbb3f70747c44a77c7bcd40155683ae19c65e1c03b4aa3499c5328201f1"
   }
  }
 },
 "nbformat": 4,
 "nbformat_minor": 5
}
