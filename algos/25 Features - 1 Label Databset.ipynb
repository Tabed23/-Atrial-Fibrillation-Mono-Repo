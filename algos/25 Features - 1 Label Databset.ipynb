{
 "cells": [
  {
   "cell_type": "code",
   "execution_count": 1,
   "id": "885e976c",
   "metadata": {},
   "outputs": [],
   "source": [
    "import numpy as np\n",
    "import pandas as pd\n",
    "import gzip"
   ]
  },
  {
   "cell_type": "code",
   "execution_count": null,
   "id": "3b6c2c94",
   "metadata": {},
   "outputs": [],
   "source": [
    "# compress numpy array file and export\n",
    "f = gzip.GzipFile(\"compressed_npy.gz\", \"w\")\n",
    "ecg_arr = np.load('ecgeq-500hzsrfava.npy')\n",
    "np.save(file=f, arr=ecg_arr)\n",
    "f.close()"
   ]
  },
  {
   "cell_type": "code",
   "execution_count": 3,
   "id": "1ea23e14",
   "metadata": {},
   "outputs": [
    {
     "data": {
      "text/plain": [
       "(6428, 700, 12)"
      ]
     },
     "execution_count": 3,
     "metadata": {},
     "output_type": "execute_result"
    }
   ],
   "source": [
    "# read in the compressed numpy file\n",
    "f = gzip.GzipFile('compressed_npy.gz', \"r\")\n",
    "X = np.load(f)\n",
    "\n",
    "# get 6428 layers, 700 rows and 12 columns\n",
    "X = X[:,:700,:]\n",
    "X.shape"
   ]
  },
  {
   "cell_type": "code",
   "execution_count": 4,
   "id": "0d3174f6",
   "metadata": {},
   "outputs": [],
   "source": [
    "# convert 3d array to 2d array and convert it to a dataframe\n",
    "m,n,r = X.shape"
   ]
  },
  {
   "cell_type": "code",
   "execution_count": null,
   "id": "cc49b978",
   "metadata": {},
   "outputs": [],
   "source": [
    "out_arr = np.column_stack((np.repeat(np.arange(m),n),X.reshape(m*n,-1)))\n",
    "\n",
    "out_df = pd.DataFrame(out_arr)"
   ]
  },
  {
   "cell_type": "code",
   "execution_count": null,
   "id": "09c50b8b",
   "metadata": {},
   "outputs": [],
   "source": [
    "# rename columns and drop duplicates\n",
    "out_df.columns= ['index', 'I', 'II', 'III', 'aVF', 'aVR', 'aVL', 'V1', 'V2', 'V3', 'V4', 'V5', 'V6']\n",
    "out_df['index'] = out_df['index'].astype('int32')\n",
    "out_df = out_df.drop_duplicates()\n",
    "out_df"
   ]
  },
  {
   "cell_type": "code",
   "execution_count": null,
   "id": "525efb4c",
   "metadata": {},
   "outputs": [],
   "source": [
    "# read in csv file\n",
    "df = pd.read_csv('training_13_features.csv')\n",
    "label_df = df.copy()\n",
    "label_df['unique_id'] = np.arange(label_df.shape[0])\n",
    "label_df"
   ]
  },
  {
   "cell_type": "code",
   "execution_count": null,
   "id": "9f980ad6",
   "metadata": {},
   "outputs": [],
   "source": [
    "# merge out_df and label_df \n",
    "merged_df = pd.merge(out_df, label_df, how='inner', left_on='index', right_on='unique_id')\n",
    "merged_df = merged_df.drop(columns=['index', 'unique_id'])\n",
    "merged_df"
   ]
  },
  {
   "cell_type": "code",
   "execution_count": null,
   "id": "d76c71aa",
   "metadata": {},
   "outputs": [],
   "source": [
    "# dropna and reset index\n",
    "new_mdf = merged_df.dropna()\n",
    "new_mdf = new_mdf.reset_index(drop=True)\n",
    "new_mdf"
   ]
  },
  {
   "cell_type": "code",
   "execution_count": null,
   "id": "1140a3ed",
   "metadata": {},
   "outputs": [],
   "source": [
    "# write to csv file\n",
    "new_mdf.to_csv('training_25_features.csv', index=False)"
   ]
  },
  {
   "cell_type": "code",
   "execution_count": null,
   "id": "2948c63a",
   "metadata": {},
   "outputs": [],
   "source": []
  }
 ],
 "metadata": {
  "kernelspec": {
   "display_name": "Python 3 (ipykernel)",
   "language": "python",
   "name": "python3"
  },
  "language_info": {
   "codemirror_mode": {
    "name": "ipython",
    "version": 3
   },
   "file_extension": ".py",
   "mimetype": "text/x-python",
   "name": "python",
   "nbconvert_exporter": "python",
   "pygments_lexer": "ipython3",
   "version": "3.8.10"
  }
 },
 "nbformat": 4,
 "nbformat_minor": 5
}
